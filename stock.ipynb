{
 "cells": [
  {
   "cell_type": "code",
   "execution_count": 103,
   "id": "5e159cc4",
   "metadata": {},
   "outputs": [],
   "source": [
    "import yfinance as yf\n",
    "import pandas as pd\n",
    "import numpy as np\n",
    "from sklearn.preprocessing import MinMaxScaler\n",
    "from sklearn.metrics import classification_report, mean_squared_error, mean_absolute_error\n",
    "import torch\n",
    "import torch.nn as nn\n",
    "from torch.utils.data import TensorDataset, DataLoader\n",
    "from torch.optim.lr_scheduler import ReduceLROnPlateau\n",
    "from tqdm import tqdm"
   ]
  },
  {
   "cell_type": "code",
   "execution_count": 124,
   "id": "e7cb8070",
   "metadata": {},
   "outputs": [],
   "source": [
    "def set_seed(SEED=42):\n",
    "    torch.manual_seed(SEED)\n",
    "    np.random.seed(SEED)\n",
    "    torch.cuda.manual_seed_all(SEED)\n",
    "\n",
    "    torch.backends.cudnn.deterministic = True\n",
    "    torch.backends.cudnn.benchmark = False"
   ]
  },
  {
   "cell_type": "markdown",
   "id": "93c3936a",
   "metadata": {},
   "source": [
    "# Preprocess Stock Price Data"
   ]
  },
  {
   "cell_type": "code",
   "execution_count": null,
   "id": "719662cd",
   "metadata": {},
   "outputs": [],
   "source": [
    "page_df = pd.read_csv('Page.csv')\n",
    "tickers = page_df['ticker'].unique().tolist()\n",
    "tickers = [ticker + '.JK' for ticker in tickers]"
   ]
  },
  {
   "cell_type": "code",
   "execution_count": null,
   "id": "89983c51",
   "metadata": {},
   "outputs": [
    {
     "name": "stderr",
     "output_type": "stream",
     "text": [
      "/tmp/ipykernel_2551112/101421275.py:15: FutureWarning: The previous implementation of stack is deprecated and will be removed in a future version of pandas. See the What's New notes for pandas 2.1.0 for details. Specify future_stack=True to adopt the new implementation and silence this warning.\n",
      "  raw\n"
     ]
    },
    {
     "data": {
      "text/html": [
       "<div>\n",
       "<style scoped>\n",
       "    .dataframe tbody tr th:only-of-type {\n",
       "        vertical-align: middle;\n",
       "    }\n",
       "\n",
       "    .dataframe tbody tr th {\n",
       "        vertical-align: top;\n",
       "    }\n",
       "\n",
       "    .dataframe thead th {\n",
       "        text-align: right;\n",
       "    }\n",
       "</style>\n",
       "<table border=\"1\" class=\"dataframe\">\n",
       "  <thead>\n",
       "    <tr style=\"text-align: right;\">\n",
       "      <th>Price</th>\n",
       "      <th>Ticker</th>\n",
       "      <th>Date</th>\n",
       "      <th>Open</th>\n",
       "      <th>High</th>\n",
       "      <th>Low</th>\n",
       "      <th>Close</th>\n",
       "      <th>Volume</th>\n",
       "    </tr>\n",
       "  </thead>\n",
       "  <tbody>\n",
       "    <tr>\n",
       "      <th>0</th>\n",
       "      <td>ACES.JK</td>\n",
       "      <td>2020-04-03</td>\n",
       "      <td>1121.963865</td>\n",
       "      <td>1152.170585</td>\n",
       "      <td>1044.289313</td>\n",
       "      <td>1104.702881</td>\n",
       "      <td>4.355160e+07</td>\n",
       "    </tr>\n",
       "    <tr>\n",
       "      <th>1</th>\n",
       "      <td>ACES.JK</td>\n",
       "      <td>2020-04-10</td>\n",
       "      <td>1100.387580</td>\n",
       "      <td>1160.801021</td>\n",
       "      <td>992.506478</td>\n",
       "      <td>1027.028442</td>\n",
       "      <td>5.390500e+07</td>\n",
       "    </tr>\n",
       "    <tr>\n",
       "      <th>2</th>\n",
       "      <td>ACES.JK</td>\n",
       "      <td>2020-04-17</td>\n",
       "      <td>1027.028504</td>\n",
       "      <td>1178.062193</td>\n",
       "      <td>996.821783</td>\n",
       "      <td>1156.485962</td>\n",
       "      <td>1.038959e+08</td>\n",
       "    </tr>\n",
       "    <tr>\n",
       "      <th>3</th>\n",
       "      <td>ACES.JK</td>\n",
       "      <td>2020-04-24</td>\n",
       "      <td>1156.485959</td>\n",
       "      <td>1294.573709</td>\n",
       "      <td>1061.550425</td>\n",
       "      <td>1199.638428</td>\n",
       "      <td>6.470390e+07</td>\n",
       "    </tr>\n",
       "    <tr>\n",
       "      <th>4</th>\n",
       "      <td>ACES.JK</td>\n",
       "      <td>2020-05-01</td>\n",
       "      <td>1208.268928</td>\n",
       "      <td>1337.726191</td>\n",
       "      <td>1186.692697</td>\n",
       "      <td>1311.834717</td>\n",
       "      <td>6.664000e+07</td>\n",
       "    </tr>\n",
       "    <tr>\n",
       "      <th>...</th>\n",
       "      <td>...</td>\n",
       "      <td>...</td>\n",
       "      <td>...</td>\n",
       "      <td>...</td>\n",
       "      <td>...</td>\n",
       "      <td>...</td>\n",
       "      <td>...</td>\n",
       "    </tr>\n",
       "    <tr>\n",
       "      <th>7351</th>\n",
       "      <td>UNVR.JK</td>\n",
       "      <td>2025-02-28</td>\n",
       "      <td>1295.000000</td>\n",
       "      <td>1305.000000</td>\n",
       "      <td>1015.000000</td>\n",
       "      <td>1015.000000</td>\n",
       "      <td>1.123386e+09</td>\n",
       "    </tr>\n",
       "    <tr>\n",
       "      <th>7352</th>\n",
       "      <td>UNVR.JK</td>\n",
       "      <td>2025-03-07</td>\n",
       "      <td>985.000000</td>\n",
       "      <td>1240.000000</td>\n",
       "      <td>985.000000</td>\n",
       "      <td>1200.000000</td>\n",
       "      <td>1.019657e+09</td>\n",
       "    </tr>\n",
       "    <tr>\n",
       "      <th>7353</th>\n",
       "      <td>UNVR.JK</td>\n",
       "      <td>2025-03-14</td>\n",
       "      <td>1205.000000</td>\n",
       "      <td>1335.000000</td>\n",
       "      <td>1145.000000</td>\n",
       "      <td>1300.000000</td>\n",
       "      <td>4.406983e+08</td>\n",
       "    </tr>\n",
       "    <tr>\n",
       "      <th>7354</th>\n",
       "      <td>UNVR.JK</td>\n",
       "      <td>2025-03-21</td>\n",
       "      <td>1310.000000</td>\n",
       "      <td>1420.000000</td>\n",
       "      <td>1255.000000</td>\n",
       "      <td>1295.000000</td>\n",
       "      <td>4.444509e+08</td>\n",
       "    </tr>\n",
       "    <tr>\n",
       "      <th>7355</th>\n",
       "      <td>UNVR.JK</td>\n",
       "      <td>2025-03-28</td>\n",
       "      <td>1275.000000</td>\n",
       "      <td>1290.000000</td>\n",
       "      <td>1220.000000</td>\n",
       "      <td>1265.000000</td>\n",
       "      <td>1.087171e+08</td>\n",
       "    </tr>\n",
       "  </tbody>\n",
       "</table>\n",
       "<p>7356 rows × 7 columns</p>\n",
       "</div>"
      ],
      "text/plain": [
       "Price   Ticker       Date         Open         High          Low        Close  \\\n",
       "0      ACES.JK 2020-04-03  1121.963865  1152.170585  1044.289313  1104.702881   \n",
       "1      ACES.JK 2020-04-10  1100.387580  1160.801021   992.506478  1027.028442   \n",
       "2      ACES.JK 2020-04-17  1027.028504  1178.062193   996.821783  1156.485962   \n",
       "3      ACES.JK 2020-04-24  1156.485959  1294.573709  1061.550425  1199.638428   \n",
       "4      ACES.JK 2020-05-01  1208.268928  1337.726191  1186.692697  1311.834717   \n",
       "...        ...        ...          ...          ...          ...          ...   \n",
       "7351   UNVR.JK 2025-02-28  1295.000000  1305.000000  1015.000000  1015.000000   \n",
       "7352   UNVR.JK 2025-03-07   985.000000  1240.000000   985.000000  1200.000000   \n",
       "7353   UNVR.JK 2025-03-14  1205.000000  1335.000000  1145.000000  1300.000000   \n",
       "7354   UNVR.JK 2025-03-21  1310.000000  1420.000000  1255.000000  1295.000000   \n",
       "7355   UNVR.JK 2025-03-28  1275.000000  1290.000000  1220.000000  1265.000000   \n",
       "\n",
       "Price        Volume  \n",
       "0      4.355160e+07  \n",
       "1      5.390500e+07  \n",
       "2      1.038959e+08  \n",
       "3      6.470390e+07  \n",
       "4      6.664000e+07  \n",
       "...             ...  \n",
       "7351   1.123386e+09  \n",
       "7352   1.019657e+09  \n",
       "7353   4.406983e+08  \n",
       "7354   4.444509e+08  \n",
       "7355   1.087171e+08  \n",
       "\n",
       "[7356 rows x 7 columns]"
      ]
     },
     "execution_count": 162,
     "metadata": {},
     "output_type": "execute_result"
    }
   ],
   "source": [
    "start_date = '2020-04-01'\n",
    "end_date   = '2025-03-31'\n",
    "interval   = '1d'\n",
    "\n",
    "raw = yf.download(\n",
    "    tickers=tickers,\n",
    "    start=start_date,\n",
    "    end=end_date,\n",
    "    interval=interval,\n",
    "    group_by='ticker',\n",
    "    progress=False\n",
    ")\n",
    "\n",
    "df = (\n",
    "    raw\n",
    "    .stack(level=0)\n",
    "    .rename_axis(['Date','Ticker'])\n",
    "    .reset_index()\n",
    ")\n",
    "\n",
    "df['Date'] = pd.to_datetime(df['Date'])\n",
    "df = df.set_index('Date')\n",
    "\n",
    "weekly_ff = (\n",
    "    df\n",
    "    .groupby('Ticker')\n",
    "    .resample('W-FRI')\n",
    "    .agg({\n",
    "        'Open':   'first',\n",
    "        'High':   'max',\n",
    "        'Low':    'min',\n",
    "        'Close':  'last',\n",
    "        'Volume': 'sum'\n",
    "    })\n",
    "    .dropna()\n",
    "    .reset_index()\n",
    ")\n",
    "\n",
    "weekly_ff\n"
   ]
  },
  {
   "cell_type": "code",
   "execution_count": 163,
   "id": "49afb2d5",
   "metadata": {},
   "outputs": [
    {
     "data": {
      "text/html": [
       "<div>\n",
       "<style scoped>\n",
       "    .dataframe tbody tr th:only-of-type {\n",
       "        vertical-align: middle;\n",
       "    }\n",
       "\n",
       "    .dataframe tbody tr th {\n",
       "        vertical-align: top;\n",
       "    }\n",
       "\n",
       "    .dataframe thead th {\n",
       "        text-align: right;\n",
       "    }\n",
       "</style>\n",
       "<table border=\"1\" class=\"dataframe\">\n",
       "  <thead>\n",
       "    <tr style=\"text-align: right;\">\n",
       "      <th>Price</th>\n",
       "      <th>Ticker</th>\n",
       "      <th>Date</th>\n",
       "      <th>Open</th>\n",
       "      <th>High</th>\n",
       "      <th>Low</th>\n",
       "      <th>Close</th>\n",
       "      <th>Volume</th>\n",
       "      <th>Trend</th>\n",
       "    </tr>\n",
       "  </thead>\n",
       "  <tbody>\n",
       "    <tr>\n",
       "      <th>0</th>\n",
       "      <td>ACES.JK</td>\n",
       "      <td>2020-04-03</td>\n",
       "      <td>1121.963865</td>\n",
       "      <td>1152.170585</td>\n",
       "      <td>1044.289313</td>\n",
       "      <td>1104.702881</td>\n",
       "      <td>4.355160e+07</td>\n",
       "      <td>0</td>\n",
       "    </tr>\n",
       "    <tr>\n",
       "      <th>1</th>\n",
       "      <td>ACES.JK</td>\n",
       "      <td>2020-04-10</td>\n",
       "      <td>1100.387580</td>\n",
       "      <td>1160.801021</td>\n",
       "      <td>992.506478</td>\n",
       "      <td>1027.028442</td>\n",
       "      <td>5.390500e+07</td>\n",
       "      <td>0</td>\n",
       "    </tr>\n",
       "    <tr>\n",
       "      <th>2</th>\n",
       "      <td>ACES.JK</td>\n",
       "      <td>2020-04-17</td>\n",
       "      <td>1027.028504</td>\n",
       "      <td>1178.062193</td>\n",
       "      <td>996.821783</td>\n",
       "      <td>1156.485962</td>\n",
       "      <td>1.038959e+08</td>\n",
       "      <td>1</td>\n",
       "    </tr>\n",
       "    <tr>\n",
       "      <th>3</th>\n",
       "      <td>ACES.JK</td>\n",
       "      <td>2020-04-24</td>\n",
       "      <td>1156.485959</td>\n",
       "      <td>1294.573709</td>\n",
       "      <td>1061.550425</td>\n",
       "      <td>1199.638428</td>\n",
       "      <td>6.470390e+07</td>\n",
       "      <td>1</td>\n",
       "    </tr>\n",
       "    <tr>\n",
       "      <th>4</th>\n",
       "      <td>ACES.JK</td>\n",
       "      <td>2020-05-01</td>\n",
       "      <td>1208.268928</td>\n",
       "      <td>1337.726191</td>\n",
       "      <td>1186.692697</td>\n",
       "      <td>1311.834717</td>\n",
       "      <td>6.664000e+07</td>\n",
       "      <td>1</td>\n",
       "    </tr>\n",
       "    <tr>\n",
       "      <th>...</th>\n",
       "      <td>...</td>\n",
       "      <td>...</td>\n",
       "      <td>...</td>\n",
       "      <td>...</td>\n",
       "      <td>...</td>\n",
       "      <td>...</td>\n",
       "      <td>...</td>\n",
       "      <td>...</td>\n",
       "    </tr>\n",
       "    <tr>\n",
       "      <th>7351</th>\n",
       "      <td>UNVR.JK</td>\n",
       "      <td>2025-02-28</td>\n",
       "      <td>1295.000000</td>\n",
       "      <td>1305.000000</td>\n",
       "      <td>1015.000000</td>\n",
       "      <td>1015.000000</td>\n",
       "      <td>1.123386e+09</td>\n",
       "      <td>0</td>\n",
       "    </tr>\n",
       "    <tr>\n",
       "      <th>7352</th>\n",
       "      <td>UNVR.JK</td>\n",
       "      <td>2025-03-07</td>\n",
       "      <td>985.000000</td>\n",
       "      <td>1240.000000</td>\n",
       "      <td>985.000000</td>\n",
       "      <td>1200.000000</td>\n",
       "      <td>1.019657e+09</td>\n",
       "      <td>1</td>\n",
       "    </tr>\n",
       "    <tr>\n",
       "      <th>7353</th>\n",
       "      <td>UNVR.JK</td>\n",
       "      <td>2025-03-14</td>\n",
       "      <td>1205.000000</td>\n",
       "      <td>1335.000000</td>\n",
       "      <td>1145.000000</td>\n",
       "      <td>1300.000000</td>\n",
       "      <td>4.406983e+08</td>\n",
       "      <td>1</td>\n",
       "    </tr>\n",
       "    <tr>\n",
       "      <th>7354</th>\n",
       "      <td>UNVR.JK</td>\n",
       "      <td>2025-03-21</td>\n",
       "      <td>1310.000000</td>\n",
       "      <td>1420.000000</td>\n",
       "      <td>1255.000000</td>\n",
       "      <td>1295.000000</td>\n",
       "      <td>4.444509e+08</td>\n",
       "      <td>0</td>\n",
       "    </tr>\n",
       "    <tr>\n",
       "      <th>7355</th>\n",
       "      <td>UNVR.JK</td>\n",
       "      <td>2025-03-28</td>\n",
       "      <td>1275.000000</td>\n",
       "      <td>1290.000000</td>\n",
       "      <td>1220.000000</td>\n",
       "      <td>1265.000000</td>\n",
       "      <td>1.087171e+08</td>\n",
       "      <td>0</td>\n",
       "    </tr>\n",
       "  </tbody>\n",
       "</table>\n",
       "<p>7356 rows × 8 columns</p>\n",
       "</div>"
      ],
      "text/plain": [
       "Price   Ticker       Date         Open         High          Low        Close  \\\n",
       "0      ACES.JK 2020-04-03  1121.963865  1152.170585  1044.289313  1104.702881   \n",
       "1      ACES.JK 2020-04-10  1100.387580  1160.801021   992.506478  1027.028442   \n",
       "2      ACES.JK 2020-04-17  1027.028504  1178.062193   996.821783  1156.485962   \n",
       "3      ACES.JK 2020-04-24  1156.485959  1294.573709  1061.550425  1199.638428   \n",
       "4      ACES.JK 2020-05-01  1208.268928  1337.726191  1186.692697  1311.834717   \n",
       "...        ...        ...          ...          ...          ...          ...   \n",
       "7351   UNVR.JK 2025-02-28  1295.000000  1305.000000  1015.000000  1015.000000   \n",
       "7352   UNVR.JK 2025-03-07   985.000000  1240.000000   985.000000  1200.000000   \n",
       "7353   UNVR.JK 2025-03-14  1205.000000  1335.000000  1145.000000  1300.000000   \n",
       "7354   UNVR.JK 2025-03-21  1310.000000  1420.000000  1255.000000  1295.000000   \n",
       "7355   UNVR.JK 2025-03-28  1275.000000  1290.000000  1220.000000  1265.000000   \n",
       "\n",
       "Price        Volume  Trend  \n",
       "0      4.355160e+07      0  \n",
       "1      5.390500e+07      0  \n",
       "2      1.038959e+08      1  \n",
       "3      6.470390e+07      1  \n",
       "4      6.664000e+07      1  \n",
       "...             ...    ...  \n",
       "7351   1.123386e+09      0  \n",
       "7352   1.019657e+09      1  \n",
       "7353   4.406983e+08      1  \n",
       "7354   4.444509e+08      0  \n",
       "7355   1.087171e+08      0  \n",
       "\n",
       "[7356 rows x 8 columns]"
      ]
     },
     "execution_count": 163,
     "metadata": {},
     "output_type": "execute_result"
    }
   ],
   "source": [
    "# 1) compute month‐over‐month % change on Close\n",
    "weekly_ff['Pct_Change'] = (\n",
    "    weekly_ff\n",
    "    .groupby('Ticker')['Close']\n",
    "    .pct_change()\n",
    ")\n",
    "\n",
    "weekly_ff['Trend'] = np.where(\n",
    "    weekly_ff['Pct_Change'] >=  0, 1,\n",
    "    np.where(weekly_ff['Pct_Change'] < 0, 0, 0)\n",
    ")\n",
    "\n",
    "# 3) (optional) drop the helper column\n",
    "weekly_ff.drop(columns='Pct_Change', inplace=True)\n",
    "\n",
    "# preview\n",
    "weekly_ff\n"
   ]
  },
  {
   "cell_type": "code",
   "execution_count": 164,
   "id": "a6edb746",
   "metadata": {},
   "outputs": [
    {
     "data": {
      "text/html": [
       "<div>\n",
       "<style scoped>\n",
       "    .dataframe tbody tr th:only-of-type {\n",
       "        vertical-align: middle;\n",
       "    }\n",
       "\n",
       "    .dataframe tbody tr th {\n",
       "        vertical-align: top;\n",
       "    }\n",
       "\n",
       "    .dataframe thead th {\n",
       "        text-align: right;\n",
       "    }\n",
       "</style>\n",
       "<table border=\"1\" class=\"dataframe\">\n",
       "  <thead>\n",
       "    <tr style=\"text-align: right;\">\n",
       "      <th>Price</th>\n",
       "      <th>Ticker</th>\n",
       "      <th>Date</th>\n",
       "      <th>Open</th>\n",
       "      <th>High</th>\n",
       "      <th>Low</th>\n",
       "      <th>Close</th>\n",
       "    </tr>\n",
       "  </thead>\n",
       "  <tbody>\n",
       "    <tr>\n",
       "      <th>0</th>\n",
       "      <td>ACES.JK</td>\n",
       "      <td>2020-04-03</td>\n",
       "      <td>0.606009</td>\n",
       "      <td>0.617279</td>\n",
       "      <td>0.597809</td>\n",
       "      <td>0.592202</td>\n",
       "    </tr>\n",
       "    <tr>\n",
       "      <th>1</th>\n",
       "      <td>ACES.JK</td>\n",
       "      <td>2020-04-10</td>\n",
       "      <td>0.588750</td>\n",
       "      <td>0.624423</td>\n",
       "      <td>0.552645</td>\n",
       "      <td>0.530070</td>\n",
       "    </tr>\n",
       "    <tr>\n",
       "      <th>2</th>\n",
       "      <td>ACES.JK</td>\n",
       "      <td>2020-04-17</td>\n",
       "      <td>0.530070</td>\n",
       "      <td>0.638712</td>\n",
       "      <td>0.556409</td>\n",
       "      <td>0.633623</td>\n",
       "    </tr>\n",
       "    <tr>\n",
       "      <th>3</th>\n",
       "      <td>ACES.JK</td>\n",
       "      <td>2020-04-24</td>\n",
       "      <td>0.633623</td>\n",
       "      <td>0.735158</td>\n",
       "      <td>0.612864</td>\n",
       "      <td>0.668141</td>\n",
       "    </tr>\n",
       "    <tr>\n",
       "      <th>4</th>\n",
       "      <td>ACES.JK</td>\n",
       "      <td>2020-05-01</td>\n",
       "      <td>0.675044</td>\n",
       "      <td>0.770879</td>\n",
       "      <td>0.722010</td>\n",
       "      <td>0.757887</td>\n",
       "    </tr>\n",
       "    <tr>\n",
       "      <th>...</th>\n",
       "      <td>...</td>\n",
       "      <td>...</td>\n",
       "      <td>...</td>\n",
       "      <td>...</td>\n",
       "      <td>...</td>\n",
       "      <td>...</td>\n",
       "    </tr>\n",
       "    <tr>\n",
       "      <th>7351</th>\n",
       "      <td>UNVR.JK</td>\n",
       "      <td>2025-02-28</td>\n",
       "      <td>-0.255596</td>\n",
       "      <td>-0.273823</td>\n",
       "      <td>-0.324789</td>\n",
       "      <td>-0.326897</td>\n",
       "    </tr>\n",
       "    <tr>\n",
       "      <th>7352</th>\n",
       "      <td>UNVR.JK</td>\n",
       "      <td>2025-03-07</td>\n",
       "      <td>-0.320412</td>\n",
       "      <td>-0.287634</td>\n",
       "      <td>-0.331575</td>\n",
       "      <td>-0.286645</td>\n",
       "    </tr>\n",
       "    <tr>\n",
       "      <th>7353</th>\n",
       "      <td>UNVR.JK</td>\n",
       "      <td>2025-03-14</td>\n",
       "      <td>-0.274413</td>\n",
       "      <td>-0.267449</td>\n",
       "      <td>-0.295380</td>\n",
       "      <td>-0.264888</td>\n",
       "    </tr>\n",
       "    <tr>\n",
       "      <th>7354</th>\n",
       "      <td>UNVR.JK</td>\n",
       "      <td>2025-03-21</td>\n",
       "      <td>-0.252460</td>\n",
       "      <td>-0.249389</td>\n",
       "      <td>-0.270496</td>\n",
       "      <td>-0.265976</td>\n",
       "    </tr>\n",
       "    <tr>\n",
       "      <th>7355</th>\n",
       "      <td>UNVR.JK</td>\n",
       "      <td>2025-03-28</td>\n",
       "      <td>-0.259778</td>\n",
       "      <td>-0.277010</td>\n",
       "      <td>-0.278413</td>\n",
       "      <td>-0.272503</td>\n",
       "    </tr>\n",
       "  </tbody>\n",
       "</table>\n",
       "<p>7356 rows × 6 columns</p>\n",
       "</div>"
      ],
      "text/plain": [
       "Price   Ticker       Date      Open      High       Low     Close\n",
       "0      ACES.JK 2020-04-03  0.606009  0.617279  0.597809  0.592202\n",
       "1      ACES.JK 2020-04-10  0.588750  0.624423  0.552645  0.530070\n",
       "2      ACES.JK 2020-04-17  0.530070  0.638712  0.556409  0.633623\n",
       "3      ACES.JK 2020-04-24  0.633623  0.735158  0.612864  0.668141\n",
       "4      ACES.JK 2020-05-01  0.675044  0.770879  0.722010  0.757887\n",
       "...        ...        ...       ...       ...       ...       ...\n",
       "7351   UNVR.JK 2025-02-28 -0.255596 -0.273823 -0.324789 -0.326897\n",
       "7352   UNVR.JK 2025-03-07 -0.320412 -0.287634 -0.331575 -0.286645\n",
       "7353   UNVR.JK 2025-03-14 -0.274413 -0.267449 -0.295380 -0.264888\n",
       "7354   UNVR.JK 2025-03-21 -0.252460 -0.249389 -0.270496 -0.265976\n",
       "7355   UNVR.JK 2025-03-28 -0.259778 -0.277010 -0.278413 -0.272503\n",
       "\n",
       "[7356 rows x 6 columns]"
      ]
     },
     "execution_count": 164,
     "metadata": {},
     "output_type": "execute_result"
    }
   ],
   "source": [
    "# assume weekly_ff is your DataFrame\n",
    "weekly_ff['Date'] = pd.to_datetime(weekly_ff['Date'])\n",
    "train_start = '2020-04-01'\n",
    "train_end   = '2024-03-31'\n",
    "\n",
    "# store scalers if you need to inverse_transform later\n",
    "scalers = {}\n",
    "\n",
    "for ticker, grp in weekly_ff.groupby('Ticker'):\n",
    "    # boolean masks for this ticker\n",
    "    mask_all   = weekly_ff['Ticker'] == ticker\n",
    "    mask_train = mask_all & weekly_ff['Date'].between(train_start, train_end)\n",
    "    mask_test  = mask_all & (weekly_ff['Date'] > train_end)\n",
    "    \n",
    "    # fit scaler on TRAIN close prices\n",
    "    for feature in ['Open', 'High', 'Low', 'Close']:\n",
    "        scaler = MinMaxScaler(feature_range=(0,1))\n",
    "        scaler.fit(weekly_ff.loc[mask_train, [feature]])\n",
    "        scalers[ticker] = scaler\n",
    "        \n",
    "        # transform both train and test\n",
    "        weekly_ff.loc[mask_train, feature] = scaler.transform(weekly_ff.loc[mask_train, [feature]])\n",
    "        weekly_ff.loc[mask_test,  feature] = scaler.transform(weekly_ff.loc[mask_test,  [feature]])\n",
    "\n",
    "weekly_ff[['Ticker', 'Date', 'Open', 'High', 'Low', 'Close']]\n"
   ]
  },
  {
   "cell_type": "code",
   "execution_count": 161,
   "id": "ed2d8a4b",
   "metadata": {},
   "outputs": [],
   "source": [
    "weekly_ff[['Ticker', 'Date', 'Open', 'High', 'Low', 'Close', 'Trend']].to_csv('Monthly_Stock_Price.csv', index=False)"
   ]
  },
  {
   "cell_type": "markdown",
   "id": "8e2df77d",
   "metadata": {},
   "source": [
    "# Preprocess Disclosure Tone Data"
   ]
  },
  {
   "cell_type": "code",
   "execution_count": null,
   "id": "288b3cfe",
   "metadata": {},
   "outputs": [],
   "source": [
    "result_df = pd.read_csv('Result/icl_multilabel_fin-r1.csv')\n",
    "grouped_df = result_df.groupby(['Ticker', 'Year']).sum()\n",
    "drop_cols = [\n",
    "    'Positive', 'Negative', 'Uncertainty',\n",
    "    'Litigious', 'Strong_Modal', 'Weak_Modal', 'Constraining', 'Sentence'\n",
    "]\n",
    "cols_pred = [\n",
    "    'Positive_Pred', 'Negative_Pred', 'Uncertainty_Pred',\n",
    "    'Litigious_Pred', 'Strong_Modal_Pred', 'Weak_Modal_Pred', 'Constraining_Pred'\n",
    "]\n",
    "\n",
    "# compute row-sums over those columns\n",
    "row_sums = grouped_df[cols_pred].sum(axis=1)\n",
    "\n",
    "# replace each value with its percentage of the row total\n",
    "grouped_df[cols_pred] = grouped_df[cols_pred].div(row_sums, axis=0)\n",
    "grouped_df = grouped_df.drop(columns=drop_cols).reset_index()\n",
    "grouped_df.to_csv('DisclosureTone/tone_icl_multilabel_fin-r1.csv')"
   ]
  },
  {
   "cell_type": "code",
   "execution_count": null,
   "id": "474c72be",
   "metadata": {},
   "outputs": [],
   "source": [
    "result_df = pd.read_csv('Result/zs_multiclass_fin-r1.csv')\n",
    "drop_cols = [\n",
    "    'Positive', 'Negative', 'Uncertainty',\n",
    "    'Litigious', 'Strong_Modal', 'Weak_Modal', 'Constraining', 'Sentence'\n",
    "]\n",
    "cols_pred = [\n",
    "    'Positive_Pred', 'Negative_Pred', 'Uncertainty_Pred',\n",
    "    'Litigious_Pred', 'Strong_Modal_Pred', 'Weak_Modal_Pred', 'Constraining_Pred'\n",
    "]\n",
    "# replace(2,1) for 2 class classification and replace(2,0) for 1 class classification\n",
    "result_df[cols_pred] = result_df[cols_pred].replace(2, 1)\n",
    "grouped_df = result_df.groupby(['Ticker', 'Year']).sum()\n",
    "\n",
    "# compute row-sums over those columns\n",
    "row_sums = grouped_df[cols_pred].sum(axis=1)\n",
    "\n",
    "# replace each value with its percentage of the row total\n",
    "grouped_df[cols_pred] = grouped_df[cols_pred].div(row_sums, axis=0)\n",
    "grouped_df = grouped_df.drop(columns=drop_cols).reset_index()\n",
    "grouped_df.to_csv('DisclosureTone/tone_zs_multiclass-2_fin-r1.csv')"
   ]
  },
  {
   "cell_type": "code",
   "execution_count": 10,
   "id": "0c9de5e6",
   "metadata": {},
   "outputs": [
    {
     "data": {
      "text/html": [
       "<div>\n",
       "<style scoped>\n",
       "    .dataframe tbody tr th:only-of-type {\n",
       "        vertical-align: middle;\n",
       "    }\n",
       "\n",
       "    .dataframe tbody tr th {\n",
       "        vertical-align: top;\n",
       "    }\n",
       "\n",
       "    .dataframe thead th {\n",
       "        text-align: right;\n",
       "    }\n",
       "</style>\n",
       "<table border=\"1\" class=\"dataframe\">\n",
       "  <thead>\n",
       "    <tr style=\"text-align: right;\">\n",
       "      <th></th>\n",
       "      <th>Unnamed: 0</th>\n",
       "      <th>Ticker</th>\n",
       "      <th>Year</th>\n",
       "      <th>Positive_Pred</th>\n",
       "      <th>Negative_Pred</th>\n",
       "      <th>Uncertainty_Pred</th>\n",
       "      <th>Litigious_Pred</th>\n",
       "      <th>Strong_Modal_Pred</th>\n",
       "      <th>Weak_Modal_Pred</th>\n",
       "      <th>Constraining_Pred</th>\n",
       "    </tr>\n",
       "  </thead>\n",
       "  <tbody>\n",
       "    <tr>\n",
       "      <th>0</th>\n",
       "      <td>0</td>\n",
       "      <td>ACES.JK</td>\n",
       "      <td>2020</td>\n",
       "      <td>0.393939</td>\n",
       "      <td>0.181818</td>\n",
       "      <td>0.161616</td>\n",
       "      <td>0.000000</td>\n",
       "      <td>0.060606</td>\n",
       "      <td>0.141414</td>\n",
       "      <td>0.060606</td>\n",
       "    </tr>\n",
       "    <tr>\n",
       "      <th>1</th>\n",
       "      <td>1</td>\n",
       "      <td>ACES.JK</td>\n",
       "      <td>2021</td>\n",
       "      <td>0.439024</td>\n",
       "      <td>0.195122</td>\n",
       "      <td>0.085366</td>\n",
       "      <td>0.000000</td>\n",
       "      <td>0.036585</td>\n",
       "      <td>0.170732</td>\n",
       "      <td>0.073171</td>\n",
       "    </tr>\n",
       "    <tr>\n",
       "      <th>2</th>\n",
       "      <td>2</td>\n",
       "      <td>ACES.JK</td>\n",
       "      <td>2022</td>\n",
       "      <td>0.450980</td>\n",
       "      <td>0.215686</td>\n",
       "      <td>0.058824</td>\n",
       "      <td>0.000000</td>\n",
       "      <td>0.078431</td>\n",
       "      <td>0.117647</td>\n",
       "      <td>0.078431</td>\n",
       "    </tr>\n",
       "    <tr>\n",
       "      <th>3</th>\n",
       "      <td>3</td>\n",
       "      <td>ACES.JK</td>\n",
       "      <td>2023</td>\n",
       "      <td>0.455696</td>\n",
       "      <td>0.088608</td>\n",
       "      <td>0.196203</td>\n",
       "      <td>0.000000</td>\n",
       "      <td>0.037975</td>\n",
       "      <td>0.139241</td>\n",
       "      <td>0.082278</td>\n",
       "    </tr>\n",
       "    <tr>\n",
       "      <th>4</th>\n",
       "      <td>4</td>\n",
       "      <td>ADRO.JK</td>\n",
       "      <td>2019</td>\n",
       "      <td>0.329060</td>\n",
       "      <td>0.158120</td>\n",
       "      <td>0.158120</td>\n",
       "      <td>0.000000</td>\n",
       "      <td>0.081197</td>\n",
       "      <td>0.222222</td>\n",
       "      <td>0.051282</td>\n",
       "    </tr>\n",
       "    <tr>\n",
       "      <th>...</th>\n",
       "      <td>...</td>\n",
       "      <td>...</td>\n",
       "      <td>...</td>\n",
       "      <td>...</td>\n",
       "      <td>...</td>\n",
       "      <td>...</td>\n",
       "      <td>...</td>\n",
       "      <td>...</td>\n",
       "      <td>...</td>\n",
       "      <td>...</td>\n",
       "    </tr>\n",
       "    <tr>\n",
       "      <th>139</th>\n",
       "      <td>139</td>\n",
       "      <td>UNVR.JK</td>\n",
       "      <td>2019</td>\n",
       "      <td>0.554430</td>\n",
       "      <td>0.078481</td>\n",
       "      <td>0.101266</td>\n",
       "      <td>0.000000</td>\n",
       "      <td>0.048101</td>\n",
       "      <td>0.172152</td>\n",
       "      <td>0.045570</td>\n",
       "    </tr>\n",
       "    <tr>\n",
       "      <th>140</th>\n",
       "      <td>140</td>\n",
       "      <td>UNVR.JK</td>\n",
       "      <td>2020</td>\n",
       "      <td>0.473538</td>\n",
       "      <td>0.116992</td>\n",
       "      <td>0.144847</td>\n",
       "      <td>0.002786</td>\n",
       "      <td>0.047354</td>\n",
       "      <td>0.130919</td>\n",
       "      <td>0.083565</td>\n",
       "    </tr>\n",
       "    <tr>\n",
       "      <th>141</th>\n",
       "      <td>141</td>\n",
       "      <td>UNVR.JK</td>\n",
       "      <td>2021</td>\n",
       "      <td>0.436242</td>\n",
       "      <td>0.098434</td>\n",
       "      <td>0.123043</td>\n",
       "      <td>0.000000</td>\n",
       "      <td>0.069351</td>\n",
       "      <td>0.210291</td>\n",
       "      <td>0.062640</td>\n",
       "    </tr>\n",
       "    <tr>\n",
       "      <th>142</th>\n",
       "      <td>142</td>\n",
       "      <td>UNVR.JK</td>\n",
       "      <td>2022</td>\n",
       "      <td>0.540650</td>\n",
       "      <td>0.060976</td>\n",
       "      <td>0.089431</td>\n",
       "      <td>0.000000</td>\n",
       "      <td>0.063008</td>\n",
       "      <td>0.203252</td>\n",
       "      <td>0.042683</td>\n",
       "    </tr>\n",
       "    <tr>\n",
       "      <th>143</th>\n",
       "      <td>143</td>\n",
       "      <td>UNVR.JK</td>\n",
       "      <td>2023</td>\n",
       "      <td>0.522968</td>\n",
       "      <td>0.054770</td>\n",
       "      <td>0.074205</td>\n",
       "      <td>0.000000</td>\n",
       "      <td>0.086572</td>\n",
       "      <td>0.224382</td>\n",
       "      <td>0.037102</td>\n",
       "    </tr>\n",
       "  </tbody>\n",
       "</table>\n",
       "<p>144 rows × 10 columns</p>\n",
       "</div>"
      ],
      "text/plain": [
       "     Unnamed: 0   Ticker  Year  Positive_Pred  Negative_Pred  \\\n",
       "0             0  ACES.JK  2020       0.393939       0.181818   \n",
       "1             1  ACES.JK  2021       0.439024       0.195122   \n",
       "2             2  ACES.JK  2022       0.450980       0.215686   \n",
       "3             3  ACES.JK  2023       0.455696       0.088608   \n",
       "4             4  ADRO.JK  2019       0.329060       0.158120   \n",
       "..          ...      ...   ...            ...            ...   \n",
       "139         139  UNVR.JK  2019       0.554430       0.078481   \n",
       "140         140  UNVR.JK  2020       0.473538       0.116992   \n",
       "141         141  UNVR.JK  2021       0.436242       0.098434   \n",
       "142         142  UNVR.JK  2022       0.540650       0.060976   \n",
       "143         143  UNVR.JK  2023       0.522968       0.054770   \n",
       "\n",
       "     Uncertainty_Pred  Litigious_Pred  Strong_Modal_Pred  Weak_Modal_Pred  \\\n",
       "0            0.161616        0.000000           0.060606         0.141414   \n",
       "1            0.085366        0.000000           0.036585         0.170732   \n",
       "2            0.058824        0.000000           0.078431         0.117647   \n",
       "3            0.196203        0.000000           0.037975         0.139241   \n",
       "4            0.158120        0.000000           0.081197         0.222222   \n",
       "..                ...             ...                ...              ...   \n",
       "139          0.101266        0.000000           0.048101         0.172152   \n",
       "140          0.144847        0.002786           0.047354         0.130919   \n",
       "141          0.123043        0.000000           0.069351         0.210291   \n",
       "142          0.089431        0.000000           0.063008         0.203252   \n",
       "143          0.074205        0.000000           0.086572         0.224382   \n",
       "\n",
       "     Constraining_Pred  \n",
       "0             0.060606  \n",
       "1             0.073171  \n",
       "2             0.078431  \n",
       "3             0.082278  \n",
       "4             0.051282  \n",
       "..                 ...  \n",
       "139           0.045570  \n",
       "140           0.083565  \n",
       "141           0.062640  \n",
       "142           0.042683  \n",
       "143           0.037102  \n",
       "\n",
       "[144 rows x 10 columns]"
      ]
     },
     "execution_count": 10,
     "metadata": {},
     "output_type": "execute_result"
    }
   ],
   "source": [
    "tone_df = pd.read_csv('DisclosureTone/tone_icl_multilabel_fin-r1.csv')\n",
    "tone_df['Ticker'] = tone_df['Ticker'] + '.JK'\n",
    "tone_df"
   ]
  },
  {
   "cell_type": "markdown",
   "id": "669cfb4e",
   "metadata": {},
   "source": [
    "# Load Data"
   ]
  },
  {
   "cell_type": "code",
   "execution_count": 113,
   "id": "3b643dc9",
   "metadata": {},
   "outputs": [],
   "source": [
    "def create_dataset(price_filename, tone_filename):\n",
    "   weekly_ff = pd.read_csv(price_filename)\n",
    "   weekly_ff['Date'] = pd.to_datetime(weekly_ff['Date'])\n",
    "   tone_df = pd.read_csv(tone_filename)\n",
    "   tone_df['Ticker'] = tone_df['Ticker'] + '.JK'\n",
    "\n",
    "   d = weekly_ff['Date']\n",
    "   weekly_ff['tone_year'] = d.dt.year - 1 - (d.dt.month < 4).astype(int)\n",
    "   tone_df = tone_df.rename(columns={'Year':'tone_year'})\n",
    "\n",
    "   merged = (\n",
    "      weekly_ff\n",
    "         .merge(\n",
    "            tone_df,\n",
    "            on=['Ticker','tone_year'],\n",
    "            how='left'\n",
    "         )\n",
    "         .drop(columns=['tone_year'])\n",
    "   )\n",
    "   merged = merged.fillna(0)\n",
    "   return merged\n",
    "\n",
    "timeseries_df = create_dataset('Weekly_Stock_Price.csv', 'DisclosureTone/tone_icl_multilabel_fin-r1.csv')"
   ]
  },
  {
   "cell_type": "code",
   "execution_count": 157,
   "id": "eaa821d1",
   "metadata": {},
   "outputs": [],
   "source": [
    "def create_dataloader(df, n_lags=12, tone=False, batch_size=64):\n",
    "    train_start = pd.to_datetime('2020-04-01')\n",
    "    train_end   = pd.to_datetime('2024-03-31')\n",
    "\n",
    "    if tone:\n",
    "        feature_cols = [\n",
    "            'Open', 'High', 'Low', 'Close', \n",
    "            'Positive_Pred', 'Negative_Pred', 'Uncertainty_Pred', 'Litigious_Pred', \n",
    "            'Strong_Modal_Pred', 'Weak_Modal_Pred', 'Constraining_Pred'\n",
    "        ]\n",
    "    else:\n",
    "        feature_cols = [\n",
    "            'Open', 'High', 'Low', 'Close'\n",
    "        ]\n",
    "    X_train, X_test = [], []\n",
    "    y_train, y_test = [], []\n",
    "    for ticker, group in df.groupby('Ticker'):\n",
    "        group = group.sort_values('Date')\n",
    "        feats  = group[feature_cols].values\n",
    "        dates = group['Date'].values\n",
    "\n",
    "        # slide over windows\n",
    "        for i in range(n_lags, len(group)):\n",
    "            Xw = feats[i-n_lags : i]\n",
    "            yw = feats[i][3]\n",
    "            label_date = dates[i]\n",
    "\n",
    "            if train_start <= label_date <= train_end:\n",
    "                X_train.append(Xw)\n",
    "                y_train.append(yw)\n",
    "            elif label_date > train_end:\n",
    "                X_test.append(Xw)\n",
    "                y_test.append(yw)\n",
    "    \n",
    "    X_train = np.stack(X_train, axis=0)\n",
    "    X_test  = np.stack(X_test,  axis=0)\n",
    "    y_train = np.array(y_train)\n",
    "    y_test  = np.array(y_test) \n",
    "\n",
    "    train_ds = TensorDataset(torch.from_numpy(X_train).float(), torch.from_numpy(y_train).float())\n",
    "    test_ds  = TensorDataset(torch.from_numpy(X_test).float(), torch.from_numpy(y_test).float())\n",
    "    train_loader = DataLoader(train_ds, batch_size=batch_size, shuffle=True)\n",
    "    test_loader  = DataLoader(test_ds,  batch_size=batch_size)\n",
    "\n",
    "    return X_train.shape[2], train_loader, test_loader\n",
    "\n",
    "input_dim, train_loader, test_loader = create_dataloader(timeseries_df)"
   ]
  },
  {
   "cell_type": "markdown",
   "id": "0e47da98",
   "metadata": {},
   "source": [
    "# Train Model"
   ]
  },
  {
   "cell_type": "code",
   "execution_count": 98,
   "id": "d56d5e2b",
   "metadata": {},
   "outputs": [],
   "source": [
    "class BiLSTMModel(nn.Module):\n",
    "    def __init__(self, input_size, hidden_size, num_layers, dropout_rate):\n",
    "        super(BiLSTMModel, self).__init__()\n",
    "        self.relu1 = nn.ReLU()\n",
    "        self.lstm1 = nn.LSTM(input_size, hidden_size, num_layers, batch_first=True, bidirectional=True)\n",
    "        self.dropout1 = nn.Dropout(dropout_rate)\n",
    "        self.relu2 = nn.ReLU()\n",
    "        self.lstm2 = nn.LSTM(hidden_size * 2, hidden_size, num_layers, batch_first=True, bidirectional=True)  # Input size doubles because it's bidirectional\n",
    "        self.dropout2 = nn.Dropout(dropout_rate)\n",
    "        self.fc1 = nn.Linear(hidden_size * 2, 16)  # First dense layer after second LSTM\n",
    "        self.fc2 = nn.Linear(16, 1)  # Second dense layer outputs the final prediction\n",
    "\n",
    "    def forward(self, x):\n",
    "        x = self.relu1(x)\n",
    "        x, _ = self.lstm1(x)\n",
    "        x = self.dropout1(x)\n",
    "        x = self.relu2(x)\n",
    "        x, _ = self.lstm2(x)\n",
    "        x = self.dropout2(x)\n",
    "        x = self.fc1(x[:, -1, :])  # Apply first dense layer to the last time step output\n",
    "        x = self.fc2(x)  # Apply second dense layer\n",
    "        return x.squeeze(-1)"
   ]
  },
  {
   "cell_type": "code",
   "execution_count": 99,
   "id": "8c717f1c",
   "metadata": {},
   "outputs": [],
   "source": [
    "class RMSELoss(nn.Module):\n",
    "    def __init__(self):\n",
    "        super(RMSELoss, self).__init__()\n",
    "        self.mse = nn.MSELoss()\n",
    "    \n",
    "    def forward(self, predicted, actual):\n",
    "        return torch.sqrt(self.mse(predicted, actual))"
   ]
  },
  {
   "cell_type": "code",
   "execution_count": 121,
   "id": "ed964dc9",
   "metadata": {},
   "outputs": [],
   "source": [
    "device = 'cuda:0'\n",
    "input_dim = input_dim\n",
    "hidden_dim = 64\n",
    "layer_dim  = 2\n",
    "dropout    = 0.2\n",
    "lr         = 1e-3\n",
    "epochs     = 100"
   ]
  },
  {
   "cell_type": "code",
   "execution_count": null,
   "id": "82fccf8c",
   "metadata": {},
   "outputs": [],
   "source": [
    "def train_model(train_loader, test_loader):\n",
    "    set_seed()\n",
    "    model = BiLSTMModel(input_dim, hidden_dim, layer_dim, dropout)\n",
    "    model.to(device)\n",
    "\n",
    "    # Regression setup with RMSE loss\n",
    "    criterion = RMSELoss()\n",
    "    optimizer = torch.optim.Adam(model.parameters(), lr=lr)\n",
    "    scheduler = ReduceLROnPlateau(optimizer, mode='min', factor=0.1, patience=3, verbose=True)\n",
    "\n",
    "    pbar = tqdm(range(1, epochs + 1), desc='Epoch', unit='epoch')\n",
    "    for epoch in pbar:\n",
    "        # --- Training ---\n",
    "        model.train()\n",
    "        train_loss_accum = 0.0\n",
    "        train_count = 0\n",
    "        for xb, yb in train_loader:\n",
    "            xb = xb.to(device)\n",
    "            yb = yb.to(device)\n",
    "            optimizer.zero_grad()\n",
    "            preds = model(xb)\n",
    "            loss = criterion(preds, yb)\n",
    "            loss.backward()\n",
    "            optimizer.step()\n",
    "\n",
    "            train_loss_accum += loss.item() * xb.size(0)\n",
    "            train_count += xb.size(0)\n",
    "\n",
    "        train_loss = train_loss_accum / train_count\n",
    "        scheduler.step(train_loss)\n",
    "\n",
    "        # --- Evaluation ---\n",
    "        model.eval()\n",
    "        all_test_preds = []\n",
    "        all_test_labels = []\n",
    "        with torch.no_grad():\n",
    "            for xb, yb in test_loader:\n",
    "                xb = xb.to(device)\n",
    "                preds = model(xb).cpu().numpy()\n",
    "                all_test_preds.extend(preds)\n",
    "                all_test_labels.extend(yb.numpy())\n",
    "        test_rmse = np.sqrt(mean_squared_error(all_test_labels, all_test_preds))\n",
    "\n",
    "        pbar.set_postfix({'Train RMSE': f'{train_loss:.4f}', 'Test RMSE': f'{test_rmse:.4f}'})\n",
    "\n",
    "        if optimizer.param_groups[0]['lr'] < 1e-07:\n",
    "            break\n",
    "\n",
    "    # --- Final detailed report on test set ---\n",
    "    model.eval()\n",
    "    all_preds = []\n",
    "    all_labels = []\n",
    "    with torch.no_grad():\n",
    "        for xb, yb in test_loader:\n",
    "            xb = xb.to(device)\n",
    "            preds = model(xb).cpu().numpy()\n",
    "            all_preds.append(preds)\n",
    "            all_labels.append(yb.numpy())\n",
    "\n",
    "    all_preds = np.concatenate(all_preds)\n",
    "    all_labels = np.concatenate(all_labels)\n",
    "\n",
    "    mse = mean_squared_error(all_labels, all_preds)\n",
    "    rmse = np.sqrt(mse)\n",
    "    mae = mean_absolute_error(all_labels, all_preds)\n",
    "\n",
    "    print(f\"RMSE: {rmse:.4f}\")\n",
    "    print(f\"MAE:  {mae:.4f}\")\n",
    "    return model"
   ]
  },
  {
   "cell_type": "code",
   "execution_count": null,
   "id": "9d2c9bef",
   "metadata": {},
   "outputs": [
    {
     "name": "stderr",
     "output_type": "stream",
     "text": [
      "/raid/data/fraud2024_1/env/lib/python3.10/site-packages/torch/optim/lr_scheduler.py:62: UserWarning: The verbose parameter is deprecated. Please use get_last_lr() to access the learning rate.\n",
      "  warnings.warn(\n",
      "Epoch:  51%|█████     | 51/100 [00:22<00:21,  2.31epoch/s, Train RMSE=0.0513, Test RMSE=0.0996]"
     ]
    },
    {
     "name": "stdout",
     "output_type": "stream",
     "text": [
      "RMSE: 0.0996\n",
      "MAE:  0.0587\n"
     ]
    },
    {
     "name": "stderr",
     "output_type": "stream",
     "text": [
      "\n"
     ]
    }
   ],
   "source": [
    "timeseries_df = create_dataset('Weekly_Stock_Price.csv', 'DisclosureTone/tone_icl_multilabel_fin-r1.csv')\n",
    "input_dim, train_loader, test_loader = create_dataloader(timeseries_df, n_lags=12, tone=False)\n",
    "model = train_model(train_loader, test_loader)\n",
    "torch.save(model.state_dict(), \"Model/ohlc_12.pt\")"
   ]
  },
  {
   "cell_type": "code",
   "execution_count": null,
   "id": "6888c845",
   "metadata": {},
   "outputs": [
    {
     "name": "stderr",
     "output_type": "stream",
     "text": [
      "/raid/data/fraud2024_1/env/lib/python3.10/site-packages/torch/optim/lr_scheduler.py:62: UserWarning: The verbose parameter is deprecated. Please use get_last_lr() to access the learning rate.\n",
      "  warnings.warn(\n",
      "Epoch:  60%|██████    | 60/100 [00:24<00:16,  2.46epoch/s, Train RMSE=0.0510, Test RMSE=0.1001]"
     ]
    },
    {
     "name": "stdout",
     "output_type": "stream",
     "text": [
      "RMSE: 0.1001\n",
      "MAE:  0.0589\n"
     ]
    },
    {
     "name": "stderr",
     "output_type": "stream",
     "text": [
      "\n"
     ]
    }
   ],
   "source": [
    "timeseries_df = create_dataset('Weekly_Stock_Price.csv', 'DisclosureTone/tone_icl_multilabel_fin-r1.csv')\n",
    "input_dim, train_loader, test_loader = create_dataloader(timeseries_df, n_lags=24, tone=False)\n",
    "model = train_model(train_loader, test_loader)\n",
    "torch.save(model.state_dict(), \"Model/ohlc_24.pt\")"
   ]
  },
  {
   "cell_type": "markdown",
   "id": "9557ea7b",
   "metadata": {},
   "source": [
    "# ICL Weekly"
   ]
  },
  {
   "cell_type": "markdown",
   "id": "46420ddf",
   "metadata": {},
   "source": [
    "## ICL Multilabel"
   ]
  },
  {
   "cell_type": "code",
   "execution_count": null,
   "id": "1a8a00e7",
   "metadata": {},
   "outputs": [
    {
     "name": "stderr",
     "output_type": "stream",
     "text": [
      "/raid/data/fraud2024_1/env/lib/python3.10/site-packages/torch/optim/lr_scheduler.py:62: UserWarning: The verbose parameter is deprecated. Please use get_last_lr() to access the learning rate.\n",
      "  warnings.warn(\n",
      "Epoch:   0%|          | 0/100 [00:00<?, ?epoch/s]"
     ]
    },
    {
     "name": "stderr",
     "output_type": "stream",
     "text": [
      "Epoch:  42%|████▏     | 42/100 [00:18<00:25,  2.30epoch/s, Train RMSE=0.0522, Test RMSE=0.1000]"
     ]
    },
    {
     "name": "stdout",
     "output_type": "stream",
     "text": [
      "RMSE: 0.1000\n",
      "MAE:  0.0594\n"
     ]
    },
    {
     "name": "stderr",
     "output_type": "stream",
     "text": [
      "\n"
     ]
    }
   ],
   "source": [
    "timeseries_df = create_dataset('Weekly_Stock_Price.csv', 'DisclosureTone/tone_icl_multilabel_fin-r1.csv')\n",
    "input_dim, train_loader, test_loader = create_dataloader(timeseries_df, n_lags=12, tone=True)\n",
    "model = train_model(train_loader, test_loader)\n",
    "torch.save(model.state_dict(), \"Model/icl_multilabel_fin-r1_12.pt\")"
   ]
  },
  {
   "cell_type": "code",
   "execution_count": null,
   "id": "9f9320d5",
   "metadata": {},
   "outputs": [
    {
     "name": "stderr",
     "output_type": "stream",
     "text": [
      "/raid/data/fraud2024_1/env/lib/python3.10/site-packages/torch/optim/lr_scheduler.py:62: UserWarning: The verbose parameter is deprecated. Please use get_last_lr() to access the learning rate.\n",
      "  warnings.warn(\n",
      "Epoch:  60%|██████    | 60/100 [00:24<00:16,  2.42epoch/s, Train RMSE=0.0515, Test RMSE=0.1006]"
     ]
    },
    {
     "name": "stdout",
     "output_type": "stream",
     "text": [
      "RMSE: 0.1006\n",
      "MAE:  0.0598\n"
     ]
    },
    {
     "name": "stderr",
     "output_type": "stream",
     "text": [
      "\n"
     ]
    }
   ],
   "source": [
    "timeseries_df = create_dataset('Weekly_Stock_Price.csv', 'DisclosureTone/tone_icl_multilabel_fin-r1.csv')\n",
    "input_dim, train_loader, test_loader = create_dataloader(timeseries_df, n_lags=24, tone=True)\n",
    "model = train_model(train_loader, test_loader)\n",
    "torch.save(model.state_dict(), \"Model/icl_multilabel_fin-r1_24.pt\")"
   ]
  },
  {
   "cell_type": "code",
   "execution_count": null,
   "id": "e21854ba",
   "metadata": {},
   "outputs": [
    {
     "name": "stderr",
     "output_type": "stream",
     "text": [
      "/raid/data/fraud2024_1/env/lib/python3.10/site-packages/torch/optim/lr_scheduler.py:62: UserWarning: The verbose parameter is deprecated. Please use get_last_lr() to access the learning rate.\n",
      "  warnings.warn(\n",
      "Epoch:  42%|████▏     | 42/100 [00:18<00:25,  2.27epoch/s, Train RMSE=0.0523, Test RMSE=0.1003]"
     ]
    },
    {
     "name": "stdout",
     "output_type": "stream",
     "text": [
      "RMSE: 0.1003\n",
      "MAE:  0.0595\n"
     ]
    },
    {
     "name": "stderr",
     "output_type": "stream",
     "text": [
      "\n"
     ]
    }
   ],
   "source": [
    "timeseries_df = create_dataset('Weekly_Stock_Price.csv', 'DisclosureTone/tone_icl_multilabel_qwen.csv')\n",
    "input_dim, train_loader, test_loader = create_dataloader(timeseries_df, n_lags=12, tone=True)\n",
    "model = train_model(train_loader, test_loader)\n",
    "torch.save(model.state_dict(), \"Model/icl_multilabel_qwen_12.pt\")"
   ]
  },
  {
   "cell_type": "code",
   "execution_count": null,
   "id": "7207e8de",
   "metadata": {},
   "outputs": [
    {
     "name": "stderr",
     "output_type": "stream",
     "text": [
      "/raid/data/fraud2024_1/env/lib/python3.10/site-packages/torch/optim/lr_scheduler.py:62: UserWarning: The verbose parameter is deprecated. Please use get_last_lr() to access the learning rate.\n",
      "  warnings.warn(\n",
      "Epoch:  60%|██████    | 60/100 [00:24<00:16,  2.41epoch/s, Train RMSE=0.0516, Test RMSE=0.1009]"
     ]
    },
    {
     "name": "stdout",
     "output_type": "stream",
     "text": [
      "RMSE: 0.1009\n",
      "MAE:  0.0600\n"
     ]
    },
    {
     "name": "stderr",
     "output_type": "stream",
     "text": [
      "\n"
     ]
    }
   ],
   "source": [
    "timeseries_df = create_dataset('Weekly_Stock_Price.csv', 'DisclosureTone/tone_icl_multilabel_qwen.csv')\n",
    "input_dim, train_loader, test_loader = create_dataloader(timeseries_df, n_lags=24, tone=True)\n",
    "model = train_model(train_loader, test_loader)\n",
    "torch.save(model.state_dict(), \"Model/icl_multilabel_qwen_24.pt\")"
   ]
  },
  {
   "cell_type": "markdown",
   "id": "5b1e677e",
   "metadata": {},
   "source": [
    "## ICL Multiclass-2"
   ]
  },
  {
   "cell_type": "code",
   "execution_count": null,
   "id": "6d1177c0",
   "metadata": {},
   "outputs": [
    {
     "name": "stderr",
     "output_type": "stream",
     "text": [
      "/raid/data/fraud2024_1/env/lib/python3.10/site-packages/torch/optim/lr_scheduler.py:62: UserWarning: The verbose parameter is deprecated. Please use get_last_lr() to access the learning rate.\n",
      "  warnings.warn(\n",
      "Epoch:  42%|████▏     | 42/100 [00:18<00:25,  2.26epoch/s, Train RMSE=0.0523, Test RMSE=0.1002]"
     ]
    },
    {
     "name": "stdout",
     "output_type": "stream",
     "text": [
      "RMSE: 0.1002\n",
      "MAE:  0.0592\n"
     ]
    },
    {
     "name": "stderr",
     "output_type": "stream",
     "text": [
      "\n"
     ]
    }
   ],
   "source": [
    "timeseries_df = create_dataset('Weekly_Stock_Price.csv', 'DisclosureTone/tone_icl_multiclass-2_fin-r1.csv')\n",
    "input_dim, train_loader, test_loader = create_dataloader(timeseries_df, n_lags=12, tone=True)\n",
    "model = train_model(train_loader, test_loader)\n",
    "torch.save(model.state_dict(), \"Model/icl_multiclass-2_fin-r1_12.pt\")"
   ]
  },
  {
   "cell_type": "code",
   "execution_count": null,
   "id": "2316b0bc",
   "metadata": {},
   "outputs": [
    {
     "name": "stderr",
     "output_type": "stream",
     "text": [
      "/raid/data/fraud2024_1/env/lib/python3.10/site-packages/torch/optim/lr_scheduler.py:62: UserWarning: The verbose parameter is deprecated. Please use get_last_lr() to access the learning rate.\n",
      "  warnings.warn(\n",
      "Epoch:  60%|██████    | 60/100 [00:24<00:16,  2.42epoch/s, Train RMSE=0.0516, Test RMSE=0.1014]"
     ]
    },
    {
     "name": "stdout",
     "output_type": "stream",
     "text": [
      "RMSE: 0.1014\n",
      "MAE:  0.0601\n"
     ]
    },
    {
     "name": "stderr",
     "output_type": "stream",
     "text": [
      "\n"
     ]
    }
   ],
   "source": [
    "timeseries_df = create_dataset('Weekly_Stock_Price.csv', 'DisclosureTone/tone_icl_multiclass-2_fin-r1.csv')\n",
    "input_dim, train_loader, test_loader = create_dataloader(timeseries_df, n_lags=24, tone=True)\n",
    "model = train_model(train_loader, test_loader)\n",
    "torch.save(model.state_dict(), \"Model/icl_multiclass-2_fin-r1_24.pt\")"
   ]
  },
  {
   "cell_type": "code",
   "execution_count": null,
   "id": "7d69ab04",
   "metadata": {},
   "outputs": [
    {
     "name": "stderr",
     "output_type": "stream",
     "text": [
      "/raid/data/fraud2024_1/env/lib/python3.10/site-packages/torch/optim/lr_scheduler.py:62: UserWarning: The verbose parameter is deprecated. Please use get_last_lr() to access the learning rate.\n",
      "  warnings.warn(\n",
      "Epoch:  52%|█████▏    | 52/100 [00:22<00:20,  2.31epoch/s, Train RMSE=0.0507, Test RMSE=0.1020]"
     ]
    },
    {
     "name": "stdout",
     "output_type": "stream",
     "text": [
      "RMSE: 0.1020\n",
      "MAE:  0.0603\n"
     ]
    },
    {
     "name": "stderr",
     "output_type": "stream",
     "text": [
      "\n"
     ]
    }
   ],
   "source": [
    "timeseries_df = create_dataset('Weekly_Stock_Price.csv', 'DisclosureTone/tone_icl_multiclass-2_qwen.csv')\n",
    "input_dim, train_loader, test_loader = create_dataloader(timeseries_df, n_lags=12, tone=True)\n",
    "model = train_model(train_loader, test_loader)\n",
    "torch.save(model.state_dict(), \"Model/icl_multiclass-2_qwen_12.pt\")"
   ]
  },
  {
   "cell_type": "code",
   "execution_count": null,
   "id": "57813ae8",
   "metadata": {},
   "outputs": [
    {
     "name": "stderr",
     "output_type": "stream",
     "text": [
      "/raid/data/fraud2024_1/env/lib/python3.10/site-packages/torch/optim/lr_scheduler.py:62: UserWarning: The verbose parameter is deprecated. Please use get_last_lr() to access the learning rate.\n",
      "  warnings.warn(\n",
      "Epoch:  60%|██████    | 60/100 [00:24<00:16,  2.44epoch/s, Train RMSE=0.0515, Test RMSE=0.1011]"
     ]
    },
    {
     "name": "stdout",
     "output_type": "stream",
     "text": [
      "RMSE: 0.1011\n",
      "MAE:  0.0597\n"
     ]
    },
    {
     "name": "stderr",
     "output_type": "stream",
     "text": [
      "\n"
     ]
    }
   ],
   "source": [
    "timeseries_df = create_dataset('Weekly_Stock_Price.csv', 'DisclosureTone/tone_icl_multiclass-2_qwen.csv')\n",
    "input_dim, train_loader, test_loader = create_dataloader(timeseries_df, n_lags=24, tone=True)\n",
    "model = train_model(train_loader, test_loader)\n",
    "torch.save(model.state_dict(), \"Model/icl_multiclass-2_qwen_24.pt\")"
   ]
  },
  {
   "cell_type": "markdown",
   "id": "073ada75",
   "metadata": {},
   "source": [
    "## ICL Multiclass-1"
   ]
  },
  {
   "cell_type": "code",
   "execution_count": null,
   "id": "5897c385",
   "metadata": {},
   "outputs": [
    {
     "name": "stderr",
     "output_type": "stream",
     "text": [
      "/raid/data/fraud2024_1/env/lib/python3.10/site-packages/torch/optim/lr_scheduler.py:62: UserWarning: The verbose parameter is deprecated. Please use get_last_lr() to access the learning rate.\n",
      "  warnings.warn(\n",
      "Epoch:  42%|████▏     | 42/100 [00:18<00:25,  2.30epoch/s, Train RMSE=0.0522, Test RMSE=0.1009]"
     ]
    },
    {
     "name": "stdout",
     "output_type": "stream",
     "text": [
      "RMSE: 0.1009\n",
      "MAE:  0.0597\n"
     ]
    },
    {
     "name": "stderr",
     "output_type": "stream",
     "text": [
      "\n"
     ]
    }
   ],
   "source": [
    "timeseries_df = create_dataset('Weekly_Stock_Price.csv', 'DisclosureTone/tone_icl_multiclass-1_fin-r1.csv')\n",
    "input_dim, train_loader, test_loader = create_dataloader(timeseries_df, n_lags=12, tone=True)\n",
    "model = train_model(train_loader, test_loader)\n",
    "torch.save(model.state_dict(), \"Model/icl_multiclass-1_fin-r1_12.pt\")"
   ]
  },
  {
   "cell_type": "code",
   "execution_count": null,
   "id": "708ee263",
   "metadata": {},
   "outputs": [
    {
     "name": "stderr",
     "output_type": "stream",
     "text": [
      "/raid/data/fraud2024_1/env/lib/python3.10/site-packages/torch/optim/lr_scheduler.py:62: UserWarning: The verbose parameter is deprecated. Please use get_last_lr() to access the learning rate.\n",
      "  warnings.warn(\n",
      "Epoch:   0%|          | 0/100 [00:00<?, ?epoch/s]"
     ]
    },
    {
     "name": "stderr",
     "output_type": "stream",
     "text": [
      "Epoch:  60%|██████    | 60/100 [00:24<00:16,  2.45epoch/s, Train RMSE=0.0515, Test RMSE=0.1015]"
     ]
    },
    {
     "name": "stdout",
     "output_type": "stream",
     "text": [
      "RMSE: 0.1015\n",
      "MAE:  0.0601\n"
     ]
    },
    {
     "name": "stderr",
     "output_type": "stream",
     "text": [
      "\n"
     ]
    }
   ],
   "source": [
    "timeseries_df = create_dataset('Weekly_Stock_Price.csv', 'DisclosureTone/tone_icl_multiclass-1_fin-r1.csv')\n",
    "input_dim, train_loader, test_loader = create_dataloader(timeseries_df, n_lags=24, tone=True)\n",
    "model = train_model(train_loader, test_loader)\n",
    "torch.save(model.state_dict(), \"Model/icl_multiclass-1_fin-r1_24.pt\")"
   ]
  },
  {
   "cell_type": "code",
   "execution_count": null,
   "id": "65ea465c",
   "metadata": {},
   "outputs": [
    {
     "name": "stderr",
     "output_type": "stream",
     "text": [
      "/raid/data/fraud2024_1/env/lib/python3.10/site-packages/torch/optim/lr_scheduler.py:62: UserWarning: The verbose parameter is deprecated. Please use get_last_lr() to access the learning rate.\n",
      "  warnings.warn(\n",
      "Epoch:  42%|████▏     | 42/100 [00:18<00:25,  2.27epoch/s, Train RMSE=0.0522, Test RMSE=0.1014]"
     ]
    },
    {
     "name": "stdout",
     "output_type": "stream",
     "text": [
      "RMSE: 0.1014\n",
      "MAE:  0.0598\n"
     ]
    },
    {
     "name": "stderr",
     "output_type": "stream",
     "text": [
      "\n"
     ]
    }
   ],
   "source": [
    "timeseries_df = create_dataset('Weekly_Stock_Price.csv', 'DisclosureTone/tone_icl_multiclass-1_qwen.csv')\n",
    "input_dim, train_loader, test_loader = create_dataloader(timeseries_df, n_lags=12, tone=True)\n",
    "model = train_model(train_loader, test_loader)\n",
    "torch.save(model.state_dict(), \"Model/icl_multiclass-1_qwen_12.pt\")"
   ]
  },
  {
   "cell_type": "code",
   "execution_count": null,
   "id": "b4e7aa6c",
   "metadata": {},
   "outputs": [
    {
     "name": "stderr",
     "output_type": "stream",
     "text": [
      "/raid/data/fraud2024_1/env/lib/python3.10/site-packages/torch/optim/lr_scheduler.py:62: UserWarning: The verbose parameter is deprecated. Please use get_last_lr() to access the learning rate.\n",
      "  warnings.warn(\n",
      "Epoch:  60%|██████    | 60/100 [00:24<00:16,  2.45epoch/s, Train RMSE=0.0515, Test RMSE=0.1024]"
     ]
    },
    {
     "name": "stdout",
     "output_type": "stream",
     "text": [
      "RMSE: 0.1024\n",
      "MAE:  0.0607\n"
     ]
    },
    {
     "name": "stderr",
     "output_type": "stream",
     "text": [
      "\n"
     ]
    }
   ],
   "source": [
    "timeseries_df = create_dataset('Weekly_Stock_Price.csv', 'DisclosureTone/tone_icl_multiclass-1_qwen.csv')\n",
    "input_dim, train_loader, test_loader = create_dataloader(timeseries_df, n_lags=24, tone=True)\n",
    "model = train_model(train_loader, test_loader)\n",
    "torch.save(model.state_dict(), \"Model/icl_multiclass-1_qwen_24.pt\")"
   ]
  },
  {
   "cell_type": "markdown",
   "id": "c88b1bb9",
   "metadata": {},
   "source": [
    "# Zero-Shot Weekly"
   ]
  },
  {
   "cell_type": "markdown",
   "id": "2d04cc25",
   "metadata": {},
   "source": [
    "## ZS Multilabel"
   ]
  },
  {
   "cell_type": "code",
   "execution_count": null,
   "id": "4acf5d04",
   "metadata": {},
   "outputs": [
    {
     "name": "stderr",
     "output_type": "stream",
     "text": [
      "/raid/data/fraud2024_1/env/lib/python3.10/site-packages/torch/optim/lr_scheduler.py:62: UserWarning: The verbose parameter is deprecated. Please use get_last_lr() to access the learning rate.\n",
      "  warnings.warn(\n",
      "Epoch:  52%|█████▏    | 52/100 [00:22<00:21,  2.28epoch/s, Train RMSE=0.0507, Test RMSE=0.1018]"
     ]
    },
    {
     "name": "stdout",
     "output_type": "stream",
     "text": [
      "RMSE: 0.1018\n",
      "MAE:  0.0604\n"
     ]
    },
    {
     "name": "stderr",
     "output_type": "stream",
     "text": [
      "\n"
     ]
    }
   ],
   "source": [
    "timeseries_df = create_dataset('Weekly_Stock_Price.csv', 'DisclosureTone/tone_zs_multilabel_fin-r1.csv')\n",
    "input_dim, train_loader, test_loader = create_dataloader(timeseries_df, n_lags=12, tone=True)\n",
    "model = train_model(train_loader, test_loader)\n",
    "torch.save(model.state_dict(), \"Model/zs_multilabel_fin-r1_12.pt\")"
   ]
  },
  {
   "cell_type": "code",
   "execution_count": null,
   "id": "1cbaca55",
   "metadata": {},
   "outputs": [
    {
     "name": "stderr",
     "output_type": "stream",
     "text": [
      "/raid/data/fraud2024_1/env/lib/python3.10/site-packages/torch/optim/lr_scheduler.py:62: UserWarning: The verbose parameter is deprecated. Please use get_last_lr() to access the learning rate.\n",
      "  warnings.warn(\n",
      "Epoch:  49%|████▉     | 49/100 [00:20<00:21,  2.39epoch/s, Train RMSE=0.0526, Test RMSE=0.1007]"
     ]
    },
    {
     "name": "stdout",
     "output_type": "stream",
     "text": [
      "RMSE: 0.1007\n",
      "MAE:  0.0597\n"
     ]
    },
    {
     "name": "stderr",
     "output_type": "stream",
     "text": [
      "\n"
     ]
    }
   ],
   "source": [
    "timeseries_df = create_dataset('Weekly_Stock_Price.csv', 'DisclosureTone/tone_zs_multilabel_fin-r1.csv')\n",
    "input_dim, train_loader, test_loader = create_dataloader(timeseries_df, n_lags=24, tone=True)\n",
    "model = train_model(train_loader, test_loader)\n",
    "torch.save(model.state_dict(), \"Model/zs_multilabel_fin-r1_24.pt\")"
   ]
  },
  {
   "cell_type": "code",
   "execution_count": null,
   "id": "35bdb9d5",
   "metadata": {},
   "outputs": [
    {
     "name": "stderr",
     "output_type": "stream",
     "text": [
      "/raid/data/fraud2024_1/env/lib/python3.10/site-packages/torch/optim/lr_scheduler.py:62: UserWarning: The verbose parameter is deprecated. Please use get_last_lr() to access the learning rate.\n",
      "  warnings.warn(\n",
      "Epoch:  52%|█████▏    | 52/100 [00:22<00:20,  2.31epoch/s, Train RMSE=0.0506, Test RMSE=0.1012]"
     ]
    },
    {
     "name": "stdout",
     "output_type": "stream",
     "text": [
      "RMSE: 0.1012\n",
      "MAE:  0.0599\n"
     ]
    },
    {
     "name": "stderr",
     "output_type": "stream",
     "text": [
      "\n"
     ]
    }
   ],
   "source": [
    "timeseries_df = create_dataset('Weekly_Stock_Price.csv', 'DisclosureTone/tone_zs_multilabel_qwen.csv')\n",
    "input_dim, train_loader, test_loader = create_dataloader(timeseries_df, n_lags=12, tone=True)\n",
    "model = train_model(train_loader, test_loader)\n",
    "torch.save(model.state_dict(), \"Model/zs_multilabel_qwen_12.pt\")"
   ]
  },
  {
   "cell_type": "code",
   "execution_count": null,
   "id": "311af96d",
   "metadata": {},
   "outputs": [
    {
     "name": "stderr",
     "output_type": "stream",
     "text": [
      "/raid/data/fraud2024_1/env/lib/python3.10/site-packages/torch/optim/lr_scheduler.py:62: UserWarning: The verbose parameter is deprecated. Please use get_last_lr() to access the learning rate.\n",
      "  warnings.warn(\n",
      "Epoch:   0%|          | 0/100 [00:00<?, ?epoch/s]"
     ]
    },
    {
     "name": "stderr",
     "output_type": "stream",
     "text": [
      "Epoch:  55%|█████▌    | 55/100 [00:22<00:18,  2.44epoch/s, Train RMSE=0.0520, Test RMSE=0.1007]"
     ]
    },
    {
     "name": "stdout",
     "output_type": "stream",
     "text": [
      "RMSE: 0.1007\n",
      "MAE:  0.0597\n"
     ]
    },
    {
     "name": "stderr",
     "output_type": "stream",
     "text": [
      "\n"
     ]
    }
   ],
   "source": [
    "timeseries_df = create_dataset('Weekly_Stock_Price.csv', 'DisclosureTone/tone_zs_multilabel_qwen.csv')\n",
    "input_dim, train_loader, test_loader = create_dataloader(timeseries_df, n_lags=24, tone=True)\n",
    "model = train_model(train_loader, test_loader)\n",
    "torch.save(model.state_dict(), \"Model/zs_multilabel_qwen_24.pt\")"
   ]
  },
  {
   "cell_type": "markdown",
   "id": "ee93eedb",
   "metadata": {},
   "source": [
    "## ZS Multiclass-2"
   ]
  },
  {
   "cell_type": "code",
   "execution_count": null,
   "id": "e4e6b29c",
   "metadata": {},
   "outputs": [
    {
     "name": "stderr",
     "output_type": "stream",
     "text": [
      "/raid/data/fraud2024_1/env/lib/python3.10/site-packages/torch/optim/lr_scheduler.py:62: UserWarning: The verbose parameter is deprecated. Please use get_last_lr() to access the learning rate.\n",
      "  warnings.warn(\n",
      "Epoch:   0%|          | 0/100 [00:00<?, ?epoch/s]"
     ]
    },
    {
     "name": "stderr",
     "output_type": "stream",
     "text": [
      "Epoch:  52%|█████▏    | 52/100 [00:22<00:20,  2.31epoch/s, Train RMSE=0.0506, Test RMSE=0.1016]"
     ]
    },
    {
     "name": "stdout",
     "output_type": "stream",
     "text": [
      "RMSE: 0.1016\n",
      "MAE:  0.0602\n"
     ]
    },
    {
     "name": "stderr",
     "output_type": "stream",
     "text": [
      "\n"
     ]
    }
   ],
   "source": [
    "timeseries_df = create_dataset('Weekly_Stock_Price.csv', 'DisclosureTone/tone_zs_multiclass-2_fin-r1.csv')\n",
    "input_dim, train_loader, test_loader = create_dataloader(timeseries_df, n_lags=12, tone=True)\n",
    "model = train_model(train_loader, test_loader)\n",
    "torch.save(model.state_dict(), \"Model/zs_multiclass-2_fin-r1_12.pt\")"
   ]
  },
  {
   "cell_type": "code",
   "execution_count": null,
   "id": "e25b4ed9",
   "metadata": {},
   "outputs": [
    {
     "name": "stderr",
     "output_type": "stream",
     "text": [
      "/raid/data/fraud2024_1/env/lib/python3.10/site-packages/torch/optim/lr_scheduler.py:62: UserWarning: The verbose parameter is deprecated. Please use get_last_lr() to access the learning rate.\n",
      "  warnings.warn(\n",
      "Epoch:  60%|██████    | 60/100 [00:24<00:16,  2.44epoch/s, Train RMSE=0.0515, Test RMSE=0.1009]"
     ]
    },
    {
     "name": "stdout",
     "output_type": "stream",
     "text": [
      "RMSE: 0.1009\n",
      "MAE:  0.0599\n"
     ]
    },
    {
     "name": "stderr",
     "output_type": "stream",
     "text": [
      "\n"
     ]
    }
   ],
   "source": [
    "timeseries_df = create_dataset('Weekly_Stock_Price.csv', 'DisclosureTone/tone_zs_multiclass-2_fin-r1.csv')\n",
    "input_dim, train_loader, test_loader = create_dataloader(timeseries_df, n_lags=24, tone=True)\n",
    "model = train_model(train_loader, test_loader)\n",
    "torch.save(model.state_dict(), \"Model/zs_multiclass-2_fin-r1_24.pt\")"
   ]
  },
  {
   "cell_type": "code",
   "execution_count": null,
   "id": "10e5fe5b",
   "metadata": {},
   "outputs": [
    {
     "name": "stderr",
     "output_type": "stream",
     "text": [
      "/raid/data/fraud2024_1/env/lib/python3.10/site-packages/torch/optim/lr_scheduler.py:62: UserWarning: The verbose parameter is deprecated. Please use get_last_lr() to access the learning rate.\n",
      "  warnings.warn(\n",
      "Epoch:   0%|          | 0/100 [00:00<?, ?epoch/s]"
     ]
    },
    {
     "name": "stderr",
     "output_type": "stream",
     "text": [
      "Epoch:  56%|█████▌    | 56/100 [00:24<00:19,  2.30epoch/s, Train RMSE=0.0510, Test RMSE=0.1015]"
     ]
    },
    {
     "name": "stdout",
     "output_type": "stream",
     "text": [
      "RMSE: 0.1015\n",
      "MAE:  0.0600\n"
     ]
    },
    {
     "name": "stderr",
     "output_type": "stream",
     "text": [
      "\n"
     ]
    }
   ],
   "source": [
    "timeseries_df = create_dataset('Weekly_Stock_Price.csv', 'DisclosureTone/tone_zs_multiclass-2_qwen.csv')\n",
    "input_dim, train_loader, test_loader = create_dataloader(timeseries_df, n_lags=12, tone=True)\n",
    "model = train_model(train_loader, test_loader)\n",
    "torch.save(model.state_dict(), \"Model/zs_multiclass-2_qwen_12.pt\")"
   ]
  },
  {
   "cell_type": "code",
   "execution_count": null,
   "id": "10b1d139",
   "metadata": {},
   "outputs": [
    {
     "name": "stderr",
     "output_type": "stream",
     "text": [
      "/raid/data/fraud2024_1/env/lib/python3.10/site-packages/torch/optim/lr_scheduler.py:62: UserWarning: The verbose parameter is deprecated. Please use get_last_lr() to access the learning rate.\n",
      "  warnings.warn(\n",
      "Epoch:   0%|          | 0/100 [00:00<?, ?epoch/s]"
     ]
    },
    {
     "name": "stderr",
     "output_type": "stream",
     "text": [
      "Epoch:  60%|██████    | 60/100 [00:24<00:16,  2.43epoch/s, Train RMSE=0.0516, Test RMSE=0.1014]"
     ]
    },
    {
     "name": "stdout",
     "output_type": "stream",
     "text": [
      "RMSE: 0.1014\n",
      "MAE:  0.0600\n"
     ]
    },
    {
     "name": "stderr",
     "output_type": "stream",
     "text": [
      "\n"
     ]
    }
   ],
   "source": [
    "timeseries_df = create_dataset('Weekly_Stock_Price.csv', 'DisclosureTone/tone_zs_multiclass-2_qwen.csv')\n",
    "input_dim, train_loader, test_loader = create_dataloader(timeseries_df, n_lags=24, tone=True)\n",
    "model = train_model(train_loader, test_loader)\n",
    "torch.save(model.state_dict(), \"Model/zs_multiclass-2_qwen_24.pt\")"
   ]
  },
  {
   "cell_type": "markdown",
   "id": "a8a2581e",
   "metadata": {},
   "source": [
    "## ZS Multiclass-1"
   ]
  },
  {
   "cell_type": "code",
   "execution_count": null,
   "id": "7f313af6",
   "metadata": {},
   "outputs": [
    {
     "name": "stderr",
     "output_type": "stream",
     "text": [
      "/raid/data/fraud2024_1/env/lib/python3.10/site-packages/torch/optim/lr_scheduler.py:62: UserWarning: The verbose parameter is deprecated. Please use get_last_lr() to access the learning rate.\n",
      "  warnings.warn(\n",
      "Epoch:   0%|          | 0/100 [00:00<?, ?epoch/s]"
     ]
    },
    {
     "name": "stderr",
     "output_type": "stream",
     "text": [
      "Epoch:  42%|████▏     | 42/100 [00:18<00:25,  2.30epoch/s, Train RMSE=0.0525, Test RMSE=0.1000]"
     ]
    },
    {
     "name": "stdout",
     "output_type": "stream",
     "text": [
      "RMSE: 0.1000\n",
      "MAE:  0.0594\n"
     ]
    },
    {
     "name": "stderr",
     "output_type": "stream",
     "text": [
      "\n"
     ]
    }
   ],
   "source": [
    "timeseries_df = create_dataset('Weekly_Stock_Price.csv', 'DisclosureTone/tone_zs_multiclass-1_fin-r1.csv')\n",
    "input_dim, train_loader, test_loader = create_dataloader(timeseries_df, n_lags=12, tone=True)\n",
    "model = train_model(train_loader, test_loader)\n",
    "torch.save(model.state_dict(), \"Model/zs_multiclass-1_fin-r1_12.pt\")"
   ]
  },
  {
   "cell_type": "code",
   "execution_count": null,
   "id": "096e4f28",
   "metadata": {},
   "outputs": [
    {
     "name": "stderr",
     "output_type": "stream",
     "text": [
      "/raid/data/fraud2024_1/env/lib/python3.10/site-packages/torch/optim/lr_scheduler.py:62: UserWarning: The verbose parameter is deprecated. Please use get_last_lr() to access the learning rate.\n",
      "  warnings.warn(\n",
      "Epoch:  60%|██████    | 60/100 [00:24<00:16,  2.44epoch/s, Train RMSE=0.0517, Test RMSE=0.1005]"
     ]
    },
    {
     "name": "stdout",
     "output_type": "stream",
     "text": [
      "RMSE: 0.1005\n",
      "MAE:  0.0596\n"
     ]
    },
    {
     "name": "stderr",
     "output_type": "stream",
     "text": [
      "\n"
     ]
    }
   ],
   "source": [
    "timeseries_df = create_dataset('Weekly_Stock_Price.csv', 'DisclosureTone/tone_zs_multiclass-1_fin-r1.csv')\n",
    "input_dim, train_loader, test_loader = create_dataloader(timeseries_df, n_lags=24, tone=True)\n",
    "model = train_model(train_loader, test_loader)\n",
    "torch.save(model.state_dict(), \"Model/zs_multiclass-1_fin-r1_24.pt\")"
   ]
  },
  {
   "cell_type": "code",
   "execution_count": null,
   "id": "01b1cf1b",
   "metadata": {},
   "outputs": [
    {
     "name": "stderr",
     "output_type": "stream",
     "text": [
      "/raid/data/fraud2024_1/env/lib/python3.10/site-packages/torch/optim/lr_scheduler.py:62: UserWarning: The verbose parameter is deprecated. Please use get_last_lr() to access the learning rate.\n",
      "  warnings.warn(\n",
      "Epoch:  52%|█████▏    | 52/100 [00:22<00:20,  2.31epoch/s, Train RMSE=0.0507, Test RMSE=0.1017]"
     ]
    },
    {
     "name": "stdout",
     "output_type": "stream",
     "text": [
      "RMSE: 0.1017\n",
      "MAE:  0.0604\n"
     ]
    },
    {
     "name": "stderr",
     "output_type": "stream",
     "text": [
      "\n"
     ]
    }
   ],
   "source": [
    "timeseries_df = create_dataset('Weekly_Stock_Price.csv', 'DisclosureTone/tone_zs_multiclass-1_qwen.csv')\n",
    "input_dim, train_loader, test_loader = create_dataloader(timeseries_df, n_lags=12, tone=True)\n",
    "model = train_model(train_loader, test_loader)\n",
    "torch.save(model.state_dict(), \"Model/zs_multiclass-1_qwen_12.pt\")"
   ]
  },
  {
   "cell_type": "code",
   "execution_count": null,
   "id": "52411f01",
   "metadata": {},
   "outputs": [
    {
     "name": "stderr",
     "output_type": "stream",
     "text": [
      "/raid/data/fraud2024_1/env/lib/python3.10/site-packages/torch/optim/lr_scheduler.py:62: UserWarning: The verbose parameter is deprecated. Please use get_last_lr() to access the learning rate.\n",
      "  warnings.warn(\n",
      "Epoch:  60%|██████    | 60/100 [00:24<00:16,  2.42epoch/s, Train RMSE=0.0517, Test RMSE=0.1012]"
     ]
    },
    {
     "name": "stdout",
     "output_type": "stream",
     "text": [
      "RMSE: 0.1012\n",
      "MAE:  0.0601\n"
     ]
    },
    {
     "name": "stderr",
     "output_type": "stream",
     "text": [
      "\n"
     ]
    }
   ],
   "source": [
    "timeseries_df = create_dataset('Weekly_Stock_Price.csv', 'DisclosureTone/tone_zs_multiclass-1_qwen.csv')\n",
    "input_dim, train_loader, test_loader = create_dataloader(timeseries_df, n_lags=24, tone=True)\n",
    "model = train_model(train_loader, test_loader)\n",
    "torch.save(model.state_dict(), \"Model/zs_multiclass-1_qwen_24.pt\")"
   ]
  },
  {
   "cell_type": "markdown",
   "id": "bf9c33da",
   "metadata": {},
   "source": [
    "# ICL Monthly"
   ]
  },
  {
   "cell_type": "code",
   "execution_count": null,
   "id": "35aba421",
   "metadata": {},
   "outputs": [
    {
     "name": "stderr",
     "output_type": "stream",
     "text": [
      "/raid/data/fraud2024_1/env/lib/python3.10/site-packages/torch/optim/lr_scheduler.py:62: UserWarning: The verbose parameter is deprecated. Please use get_last_lr() to access the learning rate.\n",
      "  warnings.warn(\n",
      "Epoch:  70%|███████   | 70/100 [00:06<00:02, 10.28epoch/s, Train RMSE=0.1068, Test RMSE=0.1562]\n"
     ]
    },
    {
     "name": "stdout",
     "output_type": "stream",
     "text": [
      "RMSE: 0.1562\n",
      "MAE:  0.1132\n"
     ]
    }
   ],
   "source": [
    "timeseries_df = create_dataset('Monthly_Stock_Price.csv', 'DisclosureTone/tone_icl_multilabel_fin-r1.csv')\n",
    "input_dim, train_loader, test_loader = create_dataloader(timeseries_df, n_lags=6, tone=False)\n",
    "model = train_model(train_loader, test_loader)"
   ]
  },
  {
   "cell_type": "code",
   "execution_count": null,
   "id": "2b283466",
   "metadata": {},
   "outputs": [
    {
     "name": "stderr",
     "output_type": "stream",
     "text": [
      "/raid/data/fraud2024_1/env/lib/python3.10/site-packages/torch/optim/lr_scheduler.py:62: UserWarning: The verbose parameter is deprecated. Please use get_last_lr() to access the learning rate.\n",
      "  warnings.warn(\n",
      "Epoch:  42%|████▏     | 42/100 [00:03<00:04, 11.88epoch/s, Train RMSE=0.0998, Test RMSE=0.1554]"
     ]
    },
    {
     "name": "stdout",
     "output_type": "stream",
     "text": [
      "RMSE: 0.1554\n",
      "MAE:  0.1097\n"
     ]
    },
    {
     "name": "stderr",
     "output_type": "stream",
     "text": [
      "\n"
     ]
    }
   ],
   "source": [
    "timeseries_df = create_dataset('Monthly_Stock_Price.csv', 'DisclosureTone/tone_icl_multilabel_fin-r1.csv')\n",
    "input_dim, train_loader, test_loader = create_dataloader(timeseries_df, n_lags=12, tone=False)\n",
    "model = train_model(train_loader, test_loader)"
   ]
  },
  {
   "cell_type": "markdown",
   "id": "84043d76",
   "metadata": {},
   "source": [
    "## ICL Multilabel"
   ]
  },
  {
   "cell_type": "code",
   "execution_count": null,
   "id": "0b350721",
   "metadata": {},
   "outputs": [
    {
     "name": "stderr",
     "output_type": "stream",
     "text": [
      "/raid/data/fraud2024_1/env/lib/python3.10/site-packages/torch/optim/lr_scheduler.py:62: UserWarning: The verbose parameter is deprecated. Please use get_last_lr() to access the learning rate.\n",
      "  warnings.warn(\n",
      "Epoch:   1%|          | 1/100 [00:00<00:09,  9.96epoch/s, Train RMSE=0.4371, Test RMSE=0.3875]"
     ]
    },
    {
     "name": "stderr",
     "output_type": "stream",
     "text": [
      "Epoch:  49%|████▉     | 49/100 [00:04<00:04, 10.27epoch/s, Train RMSE=0.1103, Test RMSE=0.1555]"
     ]
    },
    {
     "name": "stdout",
     "output_type": "stream",
     "text": [
      "RMSE: 0.1555\n",
      "MAE:  0.1116\n"
     ]
    },
    {
     "name": "stderr",
     "output_type": "stream",
     "text": [
      "\n"
     ]
    }
   ],
   "source": [
    "timeseries_df = create_dataset('Monthly_Stock_Price.csv', 'DisclosureTone/tone_icl_multilabel_fin-r1.csv')\n",
    "input_dim, train_loader, test_loader = create_dataloader(timeseries_df, n_lags=6, tone=True)\n",
    "model = train_model(train_loader, test_loader)"
   ]
  },
  {
   "cell_type": "code",
   "execution_count": null,
   "id": "9b5b65ac",
   "metadata": {},
   "outputs": [
    {
     "name": "stderr",
     "output_type": "stream",
     "text": [
      "/raid/data/fraud2024_1/env/lib/python3.10/site-packages/torch/optim/lr_scheduler.py:62: UserWarning: The verbose parameter is deprecated. Please use get_last_lr() to access the learning rate.\n",
      "  warnings.warn(\n",
      "Epoch:   0%|          | 0/100 [00:00<?, ?epoch/s]"
     ]
    },
    {
     "name": "stderr",
     "output_type": "stream",
     "text": [
      "Epoch:  59%|█████▉    | 59/100 [00:04<00:03, 11.97epoch/s, Train RMSE=0.1000, Test RMSE=0.1574]"
     ]
    },
    {
     "name": "stdout",
     "output_type": "stream",
     "text": [
      "RMSE: 0.1574\n",
      "MAE:  0.1117\n"
     ]
    },
    {
     "name": "stderr",
     "output_type": "stream",
     "text": [
      "\n"
     ]
    }
   ],
   "source": [
    "timeseries_df = create_dataset('Monthly_Stock_Price.csv', 'DisclosureTone/tone_icl_multilabel_fin-r1.csv')\n",
    "input_dim, train_loader, test_loader = create_dataloader(timeseries_df, n_lags=12, tone=True)\n",
    "model = train_model(train_loader, test_loader)"
   ]
  },
  {
   "cell_type": "code",
   "execution_count": null,
   "id": "e0434cf8",
   "metadata": {},
   "outputs": [
    {
     "name": "stderr",
     "output_type": "stream",
     "text": [
      "/raid/data/fraud2024_1/env/lib/python3.10/site-packages/torch/optim/lr_scheduler.py:62: UserWarning: The verbose parameter is deprecated. Please use get_last_lr() to access the learning rate.\n",
      "  warnings.warn(\n",
      "Epoch:   0%|          | 0/100 [00:00<?, ?epoch/s]"
     ]
    },
    {
     "name": "stderr",
     "output_type": "stream",
     "text": [
      "Epoch:  49%|████▉     | 49/100 [00:04<00:04, 10.25epoch/s, Train RMSE=0.1104, Test RMSE=0.1560]"
     ]
    },
    {
     "name": "stdout",
     "output_type": "stream",
     "text": [
      "RMSE: 0.1560\n",
      "MAE:  0.1115\n"
     ]
    },
    {
     "name": "stderr",
     "output_type": "stream",
     "text": [
      "\n"
     ]
    }
   ],
   "source": [
    "timeseries_df = create_dataset('Monthly_Stock_Price.csv', 'DisclosureTone/tone_icl_multilabel_qwen.csv')\n",
    "input_dim, train_loader, test_loader = create_dataloader(timeseries_df, n_lags=6, tone=True)\n",
    "model = train_model(train_loader, test_loader)"
   ]
  },
  {
   "cell_type": "code",
   "execution_count": null,
   "id": "f8cf2507",
   "metadata": {},
   "outputs": [
    {
     "name": "stderr",
     "output_type": "stream",
     "text": [
      "/raid/data/fraud2024_1/env/lib/python3.10/site-packages/torch/optim/lr_scheduler.py:62: UserWarning: The verbose parameter is deprecated. Please use get_last_lr() to access the learning rate.\n",
      "  warnings.warn(\n"
     ]
    },
    {
     "name": "stderr",
     "output_type": "stream",
     "text": [
      "Epoch:  59%|█████▉    | 59/100 [00:04<00:03, 11.99epoch/s, Train RMSE=0.1001, Test RMSE=0.1568]"
     ]
    },
    {
     "name": "stdout",
     "output_type": "stream",
     "text": [
      "RMSE: 0.1568\n",
      "MAE:  0.1113\n"
     ]
    },
    {
     "name": "stderr",
     "output_type": "stream",
     "text": [
      "\n"
     ]
    }
   ],
   "source": [
    "timeseries_df = create_dataset('Monthly_Stock_Price.csv', 'DisclosureTone/tone_icl_multilabel_qwen.csv')\n",
    "input_dim, train_loader, test_loader = create_dataloader(timeseries_df, n_lags=12, tone=True)\n",
    "model = train_model(train_loader, test_loader)"
   ]
  },
  {
   "cell_type": "markdown",
   "id": "a035006f",
   "metadata": {},
   "source": [
    "## ICL Multiclass-2"
   ]
  },
  {
   "cell_type": "code",
   "execution_count": null,
   "id": "1d52901a",
   "metadata": {},
   "outputs": [
    {
     "name": "stderr",
     "output_type": "stream",
     "text": [
      "/raid/data/fraud2024_1/env/lib/python3.10/site-packages/torch/optim/lr_scheduler.py:62: UserWarning: The verbose parameter is deprecated. Please use get_last_lr() to access the learning rate.\n",
      "  warnings.warn(\n",
      "Epoch:   0%|          | 0/100 [00:00<?, ?epoch/s]"
     ]
    },
    {
     "name": "stderr",
     "output_type": "stream",
     "text": [
      "Epoch:  49%|████▉     | 49/100 [00:04<00:04, 10.27epoch/s, Train RMSE=0.1101, Test RMSE=0.1547]"
     ]
    },
    {
     "name": "stdout",
     "output_type": "stream",
     "text": [
      "RMSE: 0.1547\n",
      "MAE:  0.1111\n"
     ]
    },
    {
     "name": "stderr",
     "output_type": "stream",
     "text": [
      "\n"
     ]
    }
   ],
   "source": [
    "timeseries_df = create_dataset('Monthly_Stock_Price.csv', 'DisclosureTone/tone_icl_multiclass-2_fin-r1.csv')\n",
    "input_dim, train_loader, test_loader = create_dataloader(timeseries_df, n_lags=6, tone=True)\n",
    "model = train_model(train_loader, test_loader)"
   ]
  },
  {
   "cell_type": "code",
   "execution_count": null,
   "id": "7b5fd85e",
   "metadata": {},
   "outputs": [
    {
     "name": "stderr",
     "output_type": "stream",
     "text": [
      "/raid/data/fraud2024_1/env/lib/python3.10/site-packages/torch/optim/lr_scheduler.py:62: UserWarning: The verbose parameter is deprecated. Please use get_last_lr() to access the learning rate.\n",
      "  warnings.warn(\n",
      "Epoch:   0%|          | 0/100 [00:00<?, ?epoch/s]"
     ]
    },
    {
     "name": "stderr",
     "output_type": "stream",
     "text": [
      "Epoch:  59%|█████▉    | 59/100 [00:04<00:03, 11.97epoch/s, Train RMSE=0.1004, Test RMSE=0.1566]"
     ]
    },
    {
     "name": "stdout",
     "output_type": "stream",
     "text": [
      "RMSE: 0.1566\n",
      "MAE:  0.1109\n"
     ]
    },
    {
     "name": "stderr",
     "output_type": "stream",
     "text": [
      "\n"
     ]
    }
   ],
   "source": [
    "timeseries_df = create_dataset('Monthly_Stock_Price.csv', 'DisclosureTone/tone_icl_multiclass-2_fin-r1.csv')\n",
    "input_dim, train_loader, test_loader = create_dataloader(timeseries_df, n_lags=12, tone=True)\n",
    "model = train_model(train_loader, test_loader)"
   ]
  },
  {
   "cell_type": "code",
   "execution_count": null,
   "id": "a885d523",
   "metadata": {},
   "outputs": [
    {
     "name": "stderr",
     "output_type": "stream",
     "text": [
      "/raid/data/fraud2024_1/env/lib/python3.10/site-packages/torch/optim/lr_scheduler.py:62: UserWarning: The verbose parameter is deprecated. Please use get_last_lr() to access the learning rate.\n",
      "  warnings.warn(\n",
      "Epoch:   0%|          | 0/100 [00:00<?, ?epoch/s]"
     ]
    },
    {
     "name": "stderr",
     "output_type": "stream",
     "text": [
      "Epoch:  51%|█████     | 51/100 [00:05<00:04, 10.18epoch/s, Train RMSE=0.1099, Test RMSE=0.1545]"
     ]
    },
    {
     "name": "stdout",
     "output_type": "stream",
     "text": [
      "RMSE: 0.1545\n",
      "MAE:  0.1111\n"
     ]
    },
    {
     "name": "stderr",
     "output_type": "stream",
     "text": [
      "\n"
     ]
    }
   ],
   "source": [
    "timeseries_df = create_dataset('Monthly_Stock_Price.csv', 'DisclosureTone/tone_icl_multiclass-2_qwen.csv')\n",
    "input_dim, train_loader, test_loader = create_dataloader(timeseries_df, n_lags=6, tone=True)\n",
    "model = train_model(train_loader, test_loader)"
   ]
  },
  {
   "cell_type": "code",
   "execution_count": null,
   "id": "faf55685",
   "metadata": {},
   "outputs": [
    {
     "name": "stderr",
     "output_type": "stream",
     "text": [
      "/raid/data/fraud2024_1/env/lib/python3.10/site-packages/torch/optim/lr_scheduler.py:62: UserWarning: The verbose parameter is deprecated. Please use get_last_lr() to access the learning rate.\n",
      "  warnings.warn(\n",
      "Epoch:   0%|          | 0/100 [00:00<?, ?epoch/s, Train RMSE=0.4563, Test RMSE=0.3789]"
     ]
    },
    {
     "name": "stderr",
     "output_type": "stream",
     "text": [
      "Epoch:  59%|█████▉    | 59/100 [00:04<00:03, 11.94epoch/s, Train RMSE=0.0998, Test RMSE=0.1569]"
     ]
    },
    {
     "name": "stdout",
     "output_type": "stream",
     "text": [
      "RMSE: 0.1569\n",
      "MAE:  0.1118\n"
     ]
    },
    {
     "name": "stderr",
     "output_type": "stream",
     "text": [
      "\n"
     ]
    }
   ],
   "source": [
    "timeseries_df = create_dataset('Monthly_Stock_Price.csv', 'DisclosureTone/tone_icl_multiclass-2_qwen.csv')\n",
    "input_dim, train_loader, test_loader = create_dataloader(timeseries_df, n_lags=12, tone=True)\n",
    "model = train_model(train_loader, test_loader)"
   ]
  },
  {
   "cell_type": "markdown",
   "id": "b8929840",
   "metadata": {},
   "source": [
    "## ICL Multiclass-1"
   ]
  },
  {
   "cell_type": "code",
   "execution_count": null,
   "id": "ae35132b",
   "metadata": {},
   "outputs": [
    {
     "name": "stderr",
     "output_type": "stream",
     "text": [
      "/raid/data/fraud2024_1/env/lib/python3.10/site-packages/torch/optim/lr_scheduler.py:62: UserWarning: The verbose parameter is deprecated. Please use get_last_lr() to access the learning rate.\n",
      "  warnings.warn(\n",
      "Epoch:   0%|          | 0/100 [00:00<?, ?epoch/s]"
     ]
    },
    {
     "name": "stderr",
     "output_type": "stream",
     "text": [
      "Epoch:  41%|████      | 41/100 [00:04<00:05, 10.22epoch/s, Train RMSE=0.1111, Test RMSE=0.1587]"
     ]
    },
    {
     "name": "stdout",
     "output_type": "stream",
     "text": [
      "RMSE: 0.1587\n",
      "MAE:  0.1139\n"
     ]
    },
    {
     "name": "stderr",
     "output_type": "stream",
     "text": [
      "\n"
     ]
    }
   ],
   "source": [
    "timeseries_df = create_dataset('Monthly_Stock_Price.csv', 'DisclosureTone/tone_icl_multiclass-1_fin-r1.csv')\n",
    "input_dim, train_loader, test_loader = create_dataloader(timeseries_df, n_lags=6, tone=True)\n",
    "model = train_model(train_loader, test_loader)"
   ]
  },
  {
   "cell_type": "code",
   "execution_count": null,
   "id": "d235ceaf",
   "metadata": {},
   "outputs": [
    {
     "name": "stderr",
     "output_type": "stream",
     "text": [
      "/raid/data/fraud2024_1/env/lib/python3.10/site-packages/torch/optim/lr_scheduler.py:62: UserWarning: The verbose parameter is deprecated. Please use get_last_lr() to access the learning rate.\n",
      "  warnings.warn(\n",
      "Epoch:   0%|          | 0/100 [00:00<?, ?epoch/s]"
     ]
    },
    {
     "name": "stderr",
     "output_type": "stream",
     "text": [
      "Epoch:  59%|█████▉    | 59/100 [00:04<00:03, 11.87epoch/s, Train RMSE=0.0998, Test RMSE=0.1576]"
     ]
    },
    {
     "name": "stdout",
     "output_type": "stream",
     "text": [
      "RMSE: 0.1576\n",
      "MAE:  0.1115\n"
     ]
    },
    {
     "name": "stderr",
     "output_type": "stream",
     "text": [
      "\n"
     ]
    }
   ],
   "source": [
    "timeseries_df = create_dataset('Monthly_Stock_Price.csv', 'DisclosureTone/tone_icl_multiclass-1_fin-r1.csv')\n",
    "input_dim, train_loader, test_loader = create_dataloader(timeseries_df, n_lags=12, tone=True)\n",
    "model = train_model(train_loader, test_loader)"
   ]
  },
  {
   "cell_type": "code",
   "execution_count": null,
   "id": "73fb6c23",
   "metadata": {},
   "outputs": [
    {
     "name": "stderr",
     "output_type": "stream",
     "text": [
      "/raid/data/fraud2024_1/env/lib/python3.10/site-packages/torch/optim/lr_scheduler.py:62: UserWarning: The verbose parameter is deprecated. Please use get_last_lr() to access the learning rate.\n",
      "  warnings.warn(\n",
      "Epoch:   0%|          | 0/100 [00:00<?, ?epoch/s]"
     ]
    },
    {
     "name": "stderr",
     "output_type": "stream",
     "text": [
      "Epoch:  51%|█████     | 51/100 [00:04<00:04, 10.27epoch/s, Train RMSE=0.1107, Test RMSE=0.1559]"
     ]
    },
    {
     "name": "stdout",
     "output_type": "stream",
     "text": [
      "RMSE: 0.1559\n",
      "MAE:  0.1117\n"
     ]
    },
    {
     "name": "stderr",
     "output_type": "stream",
     "text": [
      "\n"
     ]
    }
   ],
   "source": [
    "timeseries_df = create_dataset('Monthly_Stock_Price.csv', 'DisclosureTone/tone_icl_multiclass-1_qwen.csv')\n",
    "input_dim, train_loader, test_loader = create_dataloader(timeseries_df, n_lags=6, tone=True)\n",
    "model = train_model(train_loader, test_loader)"
   ]
  },
  {
   "cell_type": "code",
   "execution_count": null,
   "id": "b0f32633",
   "metadata": {},
   "outputs": [
    {
     "name": "stderr",
     "output_type": "stream",
     "text": [
      "/raid/data/fraud2024_1/env/lib/python3.10/site-packages/torch/optim/lr_scheduler.py:62: UserWarning: The verbose parameter is deprecated. Please use get_last_lr() to access the learning rate.\n",
      "  warnings.warn(\n",
      "Epoch:   0%|          | 0/100 [00:00<?, ?epoch/s]"
     ]
    },
    {
     "name": "stderr",
     "output_type": "stream",
     "text": [
      "Epoch:  59%|█████▉    | 59/100 [00:04<00:03, 12.00epoch/s, Train RMSE=0.0998, Test RMSE=0.1580]"
     ]
    },
    {
     "name": "stdout",
     "output_type": "stream",
     "text": [
      "RMSE: 0.1580\n",
      "MAE:  0.1121\n"
     ]
    },
    {
     "name": "stderr",
     "output_type": "stream",
     "text": [
      "\n"
     ]
    }
   ],
   "source": [
    "timeseries_df = create_dataset('Monthly_Stock_Price.csv', 'DisclosureTone/tone_icl_multiclass-1_qwen.csv')\n",
    "input_dim, train_loader, test_loader = create_dataloader(timeseries_df, n_lags=12, tone=True)\n",
    "model = train_model(train_loader, test_loader)"
   ]
  },
  {
   "cell_type": "markdown",
   "id": "fbbb2bba",
   "metadata": {},
   "source": [
    "# ZS Monthly"
   ]
  },
  {
   "cell_type": "markdown",
   "id": "0c9daba3",
   "metadata": {},
   "source": [
    "## zs Multilabel"
   ]
  },
  {
   "cell_type": "code",
   "execution_count": null,
   "id": "18e34952",
   "metadata": {},
   "outputs": [
    {
     "name": "stderr",
     "output_type": "stream",
     "text": [
      "/raid/data/fraud2024_1/env/lib/python3.10/site-packages/torch/optim/lr_scheduler.py:62: UserWarning: The verbose parameter is deprecated. Please use get_last_lr() to access the learning rate.\n",
      "  warnings.warn(\n",
      "Epoch:   0%|          | 0/100 [00:00<?, ?epoch/s]"
     ]
    },
    {
     "name": "stderr",
     "output_type": "stream",
     "text": [
      "Epoch:  49%|████▉     | 49/100 [00:04<00:05, 10.15epoch/s, Train RMSE=0.1102, Test RMSE=0.1555]"
     ]
    },
    {
     "name": "stdout",
     "output_type": "stream",
     "text": [
      "RMSE: 0.1555\n",
      "MAE:  0.1115\n"
     ]
    },
    {
     "name": "stderr",
     "output_type": "stream",
     "text": [
      "\n"
     ]
    }
   ],
   "source": [
    "timeseries_df = create_dataset('Monthly_Stock_Price.csv', 'DisclosureTone/tone_zs_multilabel_fin-r1.csv')\n",
    "input_dim, train_loader, test_loader = create_dataloader(timeseries_df, n_lags=6, tone=True)\n",
    "model = train_model(train_loader, test_loader)"
   ]
  },
  {
   "cell_type": "code",
   "execution_count": null,
   "id": "45e3b4bc",
   "metadata": {},
   "outputs": [
    {
     "name": "stderr",
     "output_type": "stream",
     "text": [
      "/raid/data/fraud2024_1/env/lib/python3.10/site-packages/torch/optim/lr_scheduler.py:62: UserWarning: The verbose parameter is deprecated. Please use get_last_lr() to access the learning rate.\n",
      "  warnings.warn(\n",
      "Epoch:   0%|          | 0/100 [00:00<?, ?epoch/s]"
     ]
    },
    {
     "name": "stderr",
     "output_type": "stream",
     "text": [
      "Epoch:  59%|█████▉    | 59/100 [00:04<00:03, 11.91epoch/s, Train RMSE=0.1002, Test RMSE=0.1571]"
     ]
    },
    {
     "name": "stdout",
     "output_type": "stream",
     "text": [
      "RMSE: 0.1571\n",
      "MAE:  0.1115\n"
     ]
    },
    {
     "name": "stderr",
     "output_type": "stream",
     "text": [
      "\n"
     ]
    }
   ],
   "source": [
    "timeseries_df = create_dataset('Monthly_Stock_Price.csv', 'DisclosureTone/tone_zs_multilabel_fin-r1.csv')\n",
    "input_dim, train_loader, test_loader = create_dataloader(timeseries_df, n_lags=12, tone=True)\n",
    "model = train_model(train_loader, test_loader)"
   ]
  },
  {
   "cell_type": "code",
   "execution_count": null,
   "id": "3b6cf767",
   "metadata": {},
   "outputs": [
    {
     "name": "stderr",
     "output_type": "stream",
     "text": [
      "/raid/data/fraud2024_1/env/lib/python3.10/site-packages/torch/optim/lr_scheduler.py:62: UserWarning: The verbose parameter is deprecated. Please use get_last_lr() to access the learning rate.\n",
      "  warnings.warn(\n",
      "Epoch:   0%|          | 0/100 [00:00<?, ?epoch/s]"
     ]
    },
    {
     "name": "stderr",
     "output_type": "stream",
     "text": [
      "Epoch:  49%|████▉     | 49/100 [00:04<00:04, 10.22epoch/s, Train RMSE=0.1100, Test RMSE=0.1555]"
     ]
    },
    {
     "name": "stdout",
     "output_type": "stream",
     "text": [
      "RMSE: 0.1555\n",
      "MAE:  0.1115\n"
     ]
    },
    {
     "name": "stderr",
     "output_type": "stream",
     "text": [
      "\n"
     ]
    }
   ],
   "source": [
    "timeseries_df = create_dataset('Monthly_Stock_Price.csv', 'DisclosureTone/tone_zs_multilabel_qwen.csv')\n",
    "input_dim, train_loader, test_loader = create_dataloader(timeseries_df, n_lags=6, tone=True)\n",
    "model = train_model(train_loader, test_loader)"
   ]
  },
  {
   "cell_type": "code",
   "execution_count": null,
   "id": "574e34f9",
   "metadata": {},
   "outputs": [
    {
     "name": "stderr",
     "output_type": "stream",
     "text": [
      "/raid/data/fraud2024_1/env/lib/python3.10/site-packages/torch/optim/lr_scheduler.py:62: UserWarning: The verbose parameter is deprecated. Please use get_last_lr() to access the learning rate.\n",
      "  warnings.warn(\n",
      "Epoch:   0%|          | 0/100 [00:00<?, ?epoch/s]"
     ]
    },
    {
     "name": "stderr",
     "output_type": "stream",
     "text": [
      "Epoch:  59%|█████▉    | 59/100 [00:04<00:03, 11.99epoch/s, Train RMSE=0.1005, Test RMSE=0.1567]"
     ]
    },
    {
     "name": "stdout",
     "output_type": "stream",
     "text": [
      "RMSE: 0.1567\n",
      "MAE:  0.1109\n"
     ]
    },
    {
     "name": "stderr",
     "output_type": "stream",
     "text": [
      "\n"
     ]
    }
   ],
   "source": [
    "timeseries_df = create_dataset('Monthly_Stock_Price.csv', 'DisclosureTone/tone_zs_multilabel_qwen.csv')\n",
    "input_dim, train_loader, test_loader = create_dataloader(timeseries_df, n_lags=12, tone=True)\n",
    "model = train_model(train_loader, test_loader)"
   ]
  },
  {
   "cell_type": "markdown",
   "id": "7cccabea",
   "metadata": {},
   "source": [
    "## ZS Multiclass-2"
   ]
  },
  {
   "cell_type": "code",
   "execution_count": null,
   "id": "01274600",
   "metadata": {},
   "outputs": [
    {
     "name": "stderr",
     "output_type": "stream",
     "text": [
      "/raid/data/fraud2024_1/env/lib/python3.10/site-packages/torch/optim/lr_scheduler.py:62: UserWarning: The verbose parameter is deprecated. Please use get_last_lr() to access the learning rate.\n",
      "  warnings.warn(\n",
      "Epoch:   0%|          | 0/100 [00:00<?, ?epoch/s]"
     ]
    },
    {
     "name": "stderr",
     "output_type": "stream",
     "text": [
      "Epoch:  45%|████▌     | 45/100 [00:04<00:05, 10.25epoch/s, Train RMSE=0.1112, Test RMSE=0.1577]"
     ]
    },
    {
     "name": "stdout",
     "output_type": "stream",
     "text": [
      "RMSE: 0.1577\n",
      "MAE:  0.1135\n"
     ]
    },
    {
     "name": "stderr",
     "output_type": "stream",
     "text": [
      "\n"
     ]
    }
   ],
   "source": [
    "timeseries_df = create_dataset('Monthly_Stock_Price.csv', 'DisclosureTone/tone_zs_multiclass-2_fin-r1.csv')\n",
    "input_dim, train_loader, test_loader = create_dataloader(timeseries_df, n_lags=6, tone=True)\n",
    "model = train_model(train_loader, test_loader)"
   ]
  },
  {
   "cell_type": "code",
   "execution_count": null,
   "id": "a997d72d",
   "metadata": {},
   "outputs": [
    {
     "name": "stderr",
     "output_type": "stream",
     "text": [
      "/raid/data/fraud2024_1/env/lib/python3.10/site-packages/torch/optim/lr_scheduler.py:62: UserWarning: The verbose parameter is deprecated. Please use get_last_lr() to access the learning rate.\n",
      "  warnings.warn(\n",
      "Epoch:   0%|          | 0/100 [00:00<?, ?epoch/s]"
     ]
    },
    {
     "name": "stderr",
     "output_type": "stream",
     "text": [
      "Epoch:  55%|█████▌    | 55/100 [00:04<00:03, 11.97epoch/s, Train RMSE=0.1013, Test RMSE=0.1574]"
     ]
    },
    {
     "name": "stdout",
     "output_type": "stream",
     "text": [
      "RMSE: 0.1574\n",
      "MAE:  0.1116\n"
     ]
    },
    {
     "name": "stderr",
     "output_type": "stream",
     "text": [
      "\n"
     ]
    }
   ],
   "source": [
    "timeseries_df = create_dataset('Monthly_Stock_Price.csv', 'DisclosureTone/tone_zs_multiclass-2_fin-r1.csv')\n",
    "input_dim, train_loader, test_loader = create_dataloader(timeseries_df, n_lags=12, tone=True)\n",
    "model = train_model(train_loader, test_loader)"
   ]
  },
  {
   "cell_type": "code",
   "execution_count": null,
   "id": "4179ae6b",
   "metadata": {},
   "outputs": [
    {
     "name": "stderr",
     "output_type": "stream",
     "text": [
      "/raid/data/fraud2024_1/env/lib/python3.10/site-packages/torch/optim/lr_scheduler.py:62: UserWarning: The verbose parameter is deprecated. Please use get_last_lr() to access the learning rate.\n",
      "  warnings.warn(\n",
      "Epoch:   0%|          | 0/100 [00:00<?, ?epoch/s]"
     ]
    },
    {
     "name": "stderr",
     "output_type": "stream",
     "text": [
      "Epoch:  49%|████▉     | 49/100 [00:04<00:04, 10.24epoch/s, Train RMSE=0.1103, Test RMSE=0.1549]\n"
     ]
    },
    {
     "name": "stdout",
     "output_type": "stream",
     "text": [
      "RMSE: 0.1549\n",
      "MAE:  0.1104\n"
     ]
    }
   ],
   "source": [
    "timeseries_df = create_dataset('Monthly_Stock_Price.csv', 'DisclosureTone/tone_zs_multiclass-2_qwen.csv')\n",
    "input_dim, train_loader, test_loader = create_dataloader(timeseries_df, n_lags=6, tone=True)\n",
    "model = train_model(train_loader, test_loader)"
   ]
  },
  {
   "cell_type": "code",
   "execution_count": null,
   "id": "45ef7f76",
   "metadata": {},
   "outputs": [
    {
     "name": "stderr",
     "output_type": "stream",
     "text": [
      "/raid/data/fraud2024_1/env/lib/python3.10/site-packages/torch/optim/lr_scheduler.py:62: UserWarning: The verbose parameter is deprecated. Please use get_last_lr() to access the learning rate.\n",
      "  warnings.warn(\n",
      "Epoch:   0%|          | 0/100 [00:00<?, ?epoch/s]"
     ]
    },
    {
     "name": "stderr",
     "output_type": "stream",
     "text": [
      "Epoch:  59%|█████▉    | 59/100 [00:04<00:03, 11.99epoch/s, Train RMSE=0.1008, Test RMSE=0.1568]"
     ]
    },
    {
     "name": "stdout",
     "output_type": "stream",
     "text": [
      "RMSE: 0.1568\n",
      "MAE:  0.1106\n"
     ]
    },
    {
     "name": "stderr",
     "output_type": "stream",
     "text": [
      "\n"
     ]
    }
   ],
   "source": [
    "timeseries_df = create_dataset('Monthly_Stock_Price.csv', 'DisclosureTone/tone_zs_multiclass-2_qwen.csv')\n",
    "input_dim, train_loader, test_loader = create_dataloader(timeseries_df, n_lags=12, tone=True)\n",
    "model = train_model(train_loader, test_loader)"
   ]
  },
  {
   "cell_type": "markdown",
   "id": "d95f9ff0",
   "metadata": {},
   "source": [
    "## ZS Multiclass-1"
   ]
  },
  {
   "cell_type": "code",
   "execution_count": null,
   "id": "dcb1f8e6",
   "metadata": {},
   "outputs": [
    {
     "name": "stderr",
     "output_type": "stream",
     "text": [
      "/raid/data/fraud2024_1/env/lib/python3.10/site-packages/torch/optim/lr_scheduler.py:62: UserWarning: The verbose parameter is deprecated. Please use get_last_lr() to access the learning rate.\n",
      "  warnings.warn(\n",
      "Epoch:   0%|          | 0/100 [00:00<?, ?epoch/s]"
     ]
    },
    {
     "name": "stderr",
     "output_type": "stream",
     "text": [
      "Epoch:  49%|████▉     | 49/100 [00:04<00:04, 10.27epoch/s, Train RMSE=0.1103, Test RMSE=0.1550]"
     ]
    },
    {
     "name": "stdout",
     "output_type": "stream",
     "text": [
      "RMSE: 0.1550\n",
      "MAE:  0.1108\n"
     ]
    },
    {
     "name": "stderr",
     "output_type": "stream",
     "text": [
      "\n"
     ]
    }
   ],
   "source": [
    "timeseries_df = create_dataset('Monthly_Stock_Price.csv', 'DisclosureTone/tone_zs_multiclass-1_fin-r1.csv')\n",
    "input_dim, train_loader, test_loader = create_dataloader(timeseries_df, n_lags=6, tone=True)\n",
    "model = train_model(train_loader, test_loader)"
   ]
  },
  {
   "cell_type": "code",
   "execution_count": null,
   "id": "507321ab",
   "metadata": {},
   "outputs": [
    {
     "name": "stderr",
     "output_type": "stream",
     "text": [
      "/raid/data/fraud2024_1/env/lib/python3.10/site-packages/torch/optim/lr_scheduler.py:62: UserWarning: The verbose parameter is deprecated. Please use get_last_lr() to access the learning rate.\n",
      "  warnings.warn(\n",
      "Epoch:   0%|          | 0/100 [00:00<?, ?epoch/s]"
     ]
    },
    {
     "name": "stderr",
     "output_type": "stream",
     "text": [
      "Epoch:  59%|█████▉    | 59/100 [00:04<00:03, 11.99epoch/s, Train RMSE=0.1006, Test RMSE=0.1573]"
     ]
    },
    {
     "name": "stdout",
     "output_type": "stream",
     "text": [
      "RMSE: 0.1573\n",
      "MAE:  0.1110\n"
     ]
    },
    {
     "name": "stderr",
     "output_type": "stream",
     "text": [
      "\n"
     ]
    }
   ],
   "source": [
    "timeseries_df = create_dataset('Monthly_Stock_Price.csv', 'DisclosureTone/tone_zs_multiclass-1_fin-r1.csv')\n",
    "input_dim, train_loader, test_loader = create_dataloader(timeseries_df, n_lags=12, tone=True)\n",
    "model = train_model(train_loader, test_loader)"
   ]
  },
  {
   "cell_type": "code",
   "execution_count": null,
   "id": "32de5da0",
   "metadata": {},
   "outputs": [
    {
     "name": "stderr",
     "output_type": "stream",
     "text": [
      "/raid/data/fraud2024_1/env/lib/python3.10/site-packages/torch/optim/lr_scheduler.py:62: UserWarning: The verbose parameter is deprecated. Please use get_last_lr() to access the learning rate.\n",
      "  warnings.warn(\n",
      "Epoch:   0%|          | 0/100 [00:00<?, ?epoch/s]"
     ]
    },
    {
     "name": "stderr",
     "output_type": "stream",
     "text": [
      "Epoch:  45%|████▌     | 45/100 [00:04<00:05, 10.23epoch/s, Train RMSE=0.1112, Test RMSE=0.1578]"
     ]
    },
    {
     "name": "stdout",
     "output_type": "stream",
     "text": [
      "RMSE: 0.1578\n",
      "MAE:  0.1132\n"
     ]
    },
    {
     "name": "stderr",
     "output_type": "stream",
     "text": [
      "\n"
     ]
    }
   ],
   "source": [
    "timeseries_df = create_dataset('Monthly_Stock_Price.csv', 'DisclosureTone/tone_zs_multiclass-1_qwen.csv')\n",
    "input_dim, train_loader, test_loader = create_dataloader(timeseries_df, n_lags=6, tone=True)\n",
    "model = train_model(train_loader, test_loader)"
   ]
  },
  {
   "cell_type": "code",
   "execution_count": null,
   "id": "b119bcac",
   "metadata": {},
   "outputs": [
    {
     "name": "stderr",
     "output_type": "stream",
     "text": [
      "/raid/data/fraud2024_1/env/lib/python3.10/site-packages/torch/optim/lr_scheduler.py:62: UserWarning: The verbose parameter is deprecated. Please use get_last_lr() to access the learning rate.\n",
      "  warnings.warn(\n",
      "Epoch:   0%|          | 0/100 [00:00<?, ?epoch/s, Train RMSE=0.4570, Test RMSE=0.3797]"
     ]
    },
    {
     "name": "stderr",
     "output_type": "stream",
     "text": [
      "Epoch:  59%|█████▉    | 59/100 [00:04<00:03, 11.99epoch/s, Train RMSE=0.1003, Test RMSE=0.1571]"
     ]
    },
    {
     "name": "stdout",
     "output_type": "stream",
     "text": [
      "RMSE: 0.1571\n",
      "MAE:  0.1111\n"
     ]
    },
    {
     "name": "stderr",
     "output_type": "stream",
     "text": [
      "\n"
     ]
    }
   ],
   "source": [
    "timeseries_df = create_dataset('Monthly_Stock_Price.csv', 'DisclosureTone/tone_zs_multiclass-1_qwen.csv')\n",
    "input_dim, train_loader, test_loader = create_dataloader(timeseries_df, n_lags=12, tone=True)\n",
    "model = train_model(train_loader, test_loader)"
   ]
  }
 ],
 "metadata": {
  "kernelspec": {
   "display_name": "env",
   "language": "python",
   "name": "python3"
  },
  "language_info": {
   "codemirror_mode": {
    "name": "ipython",
    "version": 3
   },
   "file_extension": ".py",
   "mimetype": "text/x-python",
   "name": "python",
   "nbconvert_exporter": "python",
   "pygments_lexer": "ipython3",
   "version": "3.10.16"
  }
 },
 "nbformat": 4,
 "nbformat_minor": 5
}
